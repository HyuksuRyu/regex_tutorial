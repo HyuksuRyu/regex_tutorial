{
  "nbformat": 4,
  "nbformat_minor": 0,
  "metadata": {
    "colab": {
      "name": "regex-practice.ipynb",
      "provenance": [],
      "authorship_tag": "ABX9TyOPtSTBv+Nuwbl9vg1QldKD",
      "include_colab_link": true
    },
    "kernelspec": {
      "name": "python3",
      "display_name": "Python 3"
    },
    "language_info": {
      "name": "python"
    }
  },
  "cells": [
    {
      "cell_type": "markdown",
      "metadata": {
        "id": "view-in-github",
        "colab_type": "text"
      },
      "source": [
        "<a href=\"https://colab.research.google.com/github/HyuksuRyu/regex_tutorial/blob/main/regex_practice.ipynb\" target=\"_parent\"><img src=\"https://colab.research.google.com/assets/colab-badge.svg\" alt=\"Open In Colab\"/></a>"
      ]
    },
    {
      "cell_type": "markdown",
      "source": [
        "# Practice\n",
        "1. Find regular expression for telephone number only"
      ],
      "metadata": {
        "id": "y74Sa8ez4GLg"
      }
    },
    {
      "cell_type": "code",
      "source": [
        "re_telephone = re.compile(r'\\d{2,3}-\\d{3-4}-\\d{4}')"
      ],
      "metadata": {
        "id": "97OhpaqZ4PxQ"
      },
      "execution_count": null,
      "outputs": []
    },
    {
      "cell_type": "markdown",
      "source": [
        "4. Make a decision that the given number is OK for given conditions. \n",
        "  - 8-digits\n",
        "  - the number should start between 1~9\n",
        "  - From second to fifth digit should be 1010.\n",
        "  - The sixth and seventh digit must be between 0 and 5.\n",
        "  - The eighth digit should be 0.\n",
        "\n",
        "  - example\n",
        "    - Input: `71010330` -> Output: `True`\n",
        "    - Input: `98101033` -> Output: `False`"
      ],
      "metadata": {
        "id": "pq5KGbp7Mnna"
      }
    },
    {
      "cell_type": "code",
      "source": [
        "import re\n",
        "re_digit = re.compile(r'^[1-9]1010[0-5]{2}0$')\n",
        "input1 = '71010330'\n",
        "input2 = '98101033'\n",
        "print(re_digit.fullmatch(input1))\n",
        "print(re_digit.fullmatch(input2))"
      ],
      "metadata": {
        "colab": {
          "base_uri": "https://localhost:8080/"
        },
        "id": "In1T1X_GNVb_",
        "outputId": "e5573aa3-ef26-4a74-c5f6-2acc1f9180ac"
      },
      "execution_count": 2,
      "outputs": [
        {
          "output_type": "stream",
          "name": "stdout",
          "text": [
            "<re.Match object; span=(0, 8), match='71010330'>\n",
            "None\n"
          ]
        }
      ]
    },
    {
      "cell_type": "markdown",
      "source": [
        "5. Count number of entire characters, digits, spaces, Capital and lower letters, and special characters. If possible, use visualization library"
      ],
      "metadata": {
        "id": "3aDKn4SmOPLE"
      }
    },
    {
      "cell_type": "code",
      "source": [
        "import requests\n",
        "import re\n",
        "url = 'http://www.gutenberg.org/files/64317/64317-0.txt'\n",
        "response = requests.get(url)\n",
        "response.encoding='utf-8'\n",
        "text = response.text\n",
        "\n",
        "print(\"### TEST ###\")\n",
        "print(len(text))\n",
        "print(text[:100])\n",
        "\n",
        "# number of entire letters\n",
        "print(f\"Number of entire letters: {len(text)}\")\n",
        "\n",
        "# number of digits\n",
        "re_digit = re.compile(r'\\d')\n",
        "digits = re_digit.findall(text)\n",
        "print(digits[:3])\n",
        "print(len(digits))\n",
        "print(f\"Number of digits: {len(digits)}\")\n",
        "\n"
      ],
      "metadata": {
        "colab": {
          "base_uri": "https://localhost:8080/"
        },
        "id": "uAeETVf3Ohp4",
        "outputId": "87bd10fc-6d1b-4670-9a1e-cc61a1e0ef78"
      },
      "execution_count": 4,
      "outputs": [
        {
          "output_type": "stream",
          "name": "stdout",
          "text": [
            "### TEST ###\n",
            "296704\n",
            "﻿The Project Gutenberg eBook of The Great Gatsby, by F. Scott Fitzgerald\r\n",
            "\r\n",
            "This eBook is for the us\n",
            "Number of entire letters: 296704\n",
            "['1', '7', '2']\n",
            "232\n",
            "Number of digits: 232\n"
          ]
        }
      ]
    },
    {
      "cell_type": "code",
      "source": [
        "# number of Capital Letter\n",
        "re_capital = re.compile(r'[A-Z]')\n",
        "capitals = re_capital.findall(text)\n",
        "print(f\"Number of Capitals: {len(capitals)}\")"
      ],
      "metadata": {
        "colab": {
          "base_uri": "https://localhost:8080/"
        },
        "id": "lU_OvWkIdqSD",
        "outputId": "727c317a-1cc4-4811-ca12-62ffc3e063fd"
      },
      "execution_count": 3,
      "outputs": [
        {
          "output_type": "stream",
          "name": "stdout",
          "text": [
            "Number of Capitals: 7714\n"
          ]
        }
      ]
    },
    {
      "cell_type": "code",
      "source": [
        "# number of small letter\n",
        "re_lower = re.compile(r'[a-z]')\n",
        "lowers = re_lower.findall(text)\n",
        "print(f\"Number of smalls: {len(lowers)}\")"
      ],
      "metadata": {
        "colab": {
          "base_uri": "https://localhost:8080/"
        },
        "id": "0tw5tz-WeJQ9",
        "outputId": "679f8196-2aa4-4d6a-c89d-8f4f6910c820"
      },
      "execution_count": 5,
      "outputs": [
        {
          "output_type": "stream",
          "name": "stdout",
          "text": [
            "Number of smalls: 214107\n"
          ]
        }
      ]
    },
    {
      "cell_type": "code",
      "source": [
        "# number of special library\n",
        "re_special = re.compile(r'[^\\w\\s]')\n",
        "specials = re_special.findall(text)\n",
        "print(f\"Number of Special marks: {len(specials)}\")"
      ],
      "metadata": {
        "colab": {
          "base_uri": "https://localhost:8080/"
        },
        "id": "uEuAkUGjetbM",
        "outputId": "4fbda2b9-9709-4bf2-b6bc-51d4ee87364d"
      },
      "execution_count": 10,
      "outputs": [
        {
          "output_type": "stream",
          "name": "stdout",
          "text": [
            "Number of Special marks: 14057\n"
          ]
        }
      ]
    }
  ]
}