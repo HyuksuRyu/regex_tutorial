{
  "nbformat": 4,
  "nbformat_minor": 0,
  "metadata": {
    "colab": {
      "name": "regex_practice.ipynb",
      "provenance": [],
      "authorship_tag": "ABX9TyOjKc9lqCpDLa6x7dfmLTF1",
      "include_colab_link": true
    },
    "kernelspec": {
      "name": "python3",
      "display_name": "Python 3"
    },
    "language_info": {
      "name": "python"
    }
  },
  "cells": [
    {
      "cell_type": "markdown",
      "metadata": {
        "id": "view-in-github",
        "colab_type": "text"
      },
      "source": [
        "<a href=\"https://colab.research.google.com/github/HyuksuRyu/regex_tutorial/blob/main/regex_practice.ipynb\" target=\"_parent\"><img src=\"https://colab.research.google.com/assets/colab-badge.svg\" alt=\"Open In Colab\"/></a>"
      ]
    },
    {
      "cell_type": "code",
      "execution_count": 2,
      "metadata": {
        "colab": {
          "base_uri": "https://localhost:8080/"
        },
        "id": "Lg3trVwGAxy2",
        "outputId": "6d003395-339d-4984-d848-13db0bf8b6af"
      },
      "outputs": [
        {
          "output_type": "execute_result",
          "data": {
            "text/plain": [
              "(0, 1)"
            ]
          },
          "metadata": {},
          "execution_count": 2
        }
      ],
      "source": [
        "import re\n",
        "\n",
        "regex = re.compile('[a-f]')\n",
        "s = 'abcdefghijklmnopqrstuvwxyzABCDEFGHIJKLMNOPQRSTUVWXYZ01234567891011121314151617181920'\n",
        "\n",
        "regex.findall(s)\n",
        "regex.search(s).end()"
      ]
    },
    {
      "cell_type": "code",
      "source": [
        "regex.search(s).start()"
      ],
      "metadata": {
        "colab": {
          "base_uri": "https://localhost:8080/"
        },
        "id": "vEWq6XoJBl1X",
        "outputId": "8028698a-f89f-4b9e-9dae-54013c52f6b1"
      },
      "execution_count": 3,
      "outputs": [
        {
          "output_type": "execute_result",
          "data": {
            "text/plain": [
              "0"
            ]
          },
          "metadata": {},
          "execution_count": 3
        }
      ]
    },
    {
      "cell_type": "code",
      "source": [
        "regex.search(s).end()"
      ],
      "metadata": {
        "colab": {
          "base_uri": "https://localhost:8080/"
        },
        "id": "Cxxg2eEiBmKe",
        "outputId": "7f83179c-61e7-423b-a9f5-518af47a8249"
      },
      "execution_count": 4,
      "outputs": [
        {
          "output_type": "execute_result",
          "data": {
            "text/plain": [
              "1"
            ]
          },
          "metadata": {},
          "execution_count": 4
        }
      ]
    },
    {
      "cell_type": "code",
      "source": [
        "regex.search(s).span()"
      ],
      "metadata": {
        "colab": {
          "base_uri": "https://localhost:8080/"
        },
        "id": "ns9vWktmBmUG",
        "outputId": "e6b59036-5c5d-4851-b15a-48274388cef4"
      },
      "execution_count": 5,
      "outputs": [
        {
          "output_type": "execute_result",
          "data": {
            "text/plain": [
              "(0, 1)"
            ]
          },
          "metadata": {},
          "execution_count": 5
        }
      ]
    },
    {
      "cell_type": "code",
      "source": [
        "# Tutorial 1\n",
        "import re\n",
        "re_eq = re.compile(r'([a-zA-Z]+) : (\\d+)')\n",
        "string = 'name : leehojun, age : 10, height : 180, email : paul-lab@naver.com'\n",
        "result = re_eq.search(string)\n",
        "\n",
        "print(f're.search(re_eq, string) : {result}')\n",
        "\n",
        "if result:\n",
        "  print(f'start: \\t{result.start()}')\n",
        "  print(f'end: \\t{result.end()}')\n",
        "  print(f'length: \\t{result.span()}')\n",
        "  print(f'group0: \\t{result.group(0)}')\n",
        "  print(f'group1: \\t{result.group(1)}')\n",
        "  print(f'group2: \\t{result.group(2)}')\n",
        "  print(f'groups: \\t{result.groups()}')\n",
        "  print(f'groupdict: \\t{result.groupdict()}')\n",
        "else:\n",
        "  print('no result')"
      ],
      "metadata": {
        "colab": {
          "base_uri": "https://localhost:8080/"
        },
        "id": "O6n2bNIIBmae",
        "outputId": "edc175e8-ab3a-4396-c480-4f57a80c3590"
      },
      "execution_count": 12,
      "outputs": [
        {
          "output_type": "stream",
          "name": "stdout",
          "text": [
            "re.search(re_eq, string) : <re.Match object; span=(17, 25), match='age : 10'>\n",
            "start: \t17\n",
            "end: \t25\n",
            "length: \t(17, 25)\n",
            "group0: \tage : 10\n",
            "group1: \tage\n",
            "group2: \t10\n",
            "groups: \t('age', '10')\n",
            "groupdict: \t{}\n"
          ]
        }
      ]
    },
    {
      "cell_type": "code",
      "source": [
        "result_findall = re_eq.findall(string)\n",
        "print(f're_eq.findall: {result_findall}')"
      ],
      "metadata": {
        "colab": {
          "base_uri": "https://localhost:8080/"
        },
        "id": "ApYgqbZ3Bmd3",
        "outputId": "168b2abd-d167-453f-9309-10811eacef19"
      },
      "execution_count": 14,
      "outputs": [
        {
          "output_type": "stream",
          "name": "stdout",
          "text": [
            "re_eq.findall: [('age', '10'), ('height', '180')]\n",
            "['name : leehojun, ', 'age', '10', ', ', 'height', '180', ', email : paul-lab@naver.com']\n"
          ]
        }
      ]
    },
    {
      "cell_type": "code",
      "source": [
        "result = re_eq.finditer(string)\n",
        "print(f're.finditer(string): f{result}')"
      ],
      "metadata": {
        "colab": {
          "base_uri": "https://localhost:8080/"
        },
        "id": "Y4s5AgEmBmg2",
        "outputId": "622ffcfd-dfc7-4b3b-9d84-2c12be081a85"
      },
      "execution_count": 27,
      "outputs": [
        {
          "output_type": "stream",
          "name": "stdout",
          "text": [
            "re.finditer(string): f<callable_iterator object at 0x7fd7c2281d10>\n"
          ]
        }
      ]
    },
    {
      "cell_type": "code",
      "source": [
        "for i in result:\n",
        "  print(i)\n",
        "  print(i.start(), i.end())\n",
        "  print(i.group())\n",
        "  print(i.group(1))\n",
        "  print(i.group(2))\n"
      ],
      "metadata": {
        "colab": {
          "base_uri": "https://localhost:8080/"
        },
        "id": "ksE1TZtkBmj2",
        "outputId": "9f9d6af9-368f-4e92-b7ab-49477a8b7dc3"
      },
      "execution_count": 28,
      "outputs": [
        {
          "output_type": "stream",
          "name": "stdout",
          "text": [
            "<re.Match object; span=(17, 25), match='age : 10'>\n",
            "17 25\n",
            "age : 10\n",
            "age\n",
            "10\n",
            "<re.Match object; span=(27, 39), match='height : 180'>\n",
            "27 39\n",
            "height : 180\n",
            "height\n",
            "180\n"
          ]
        }
      ]
    }
  ]
}