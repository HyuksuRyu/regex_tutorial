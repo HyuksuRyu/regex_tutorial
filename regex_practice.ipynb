{
  "nbformat": 4,
  "nbformat_minor": 0,
  "metadata": {
    "colab": {
      "name": "regex-practice.ipynb",
      "provenance": [],
      "authorship_tag": "ABX9TyN1GDh0rkzjFjSlt6+6UAzx",
      "include_colab_link": true
    },
    "kernelspec": {
      "name": "python3",
      "display_name": "Python 3"
    },
    "language_info": {
      "name": "python"
    }
  },
  "cells": [
    {
      "cell_type": "markdown",
      "metadata": {
        "id": "view-in-github",
        "colab_type": "text"
      },
      "source": [
        "<a href=\"https://colab.research.google.com/github/HyuksuRyu/regex_tutorial/blob/main/regex_practice.ipynb\" target=\"_parent\"><img src=\"https://colab.research.google.com/assets/colab-badge.svg\" alt=\"Open In Colab\"/></a>"
      ]
    },
    {
      "cell_type": "markdown",
      "source": [
        "# Practice\n",
        "1. Find regular expression for telephone number only"
      ],
      "metadata": {
        "id": "y74Sa8ez4GLg"
      }
    },
    {
      "cell_type": "code",
      "source": [
        "re_telephone = re.compile(r'\\d{2,3}-\\d{3-4}-\\d{4}')"
      ],
      "metadata": {
        "id": "97OhpaqZ4PxQ"
      },
      "execution_count": null,
      "outputs": []
    },
    {
      "cell_type": "markdown",
      "source": [
        "4. Make a decision that the given number is OK for given conditions. \n",
        "  - 8-digits\n",
        "  - the number should start between 1~9\n",
        "  - From second to fifth digit should be 1010.\n",
        "  - The sixth and seventh digit must be between 0 and 5.\n",
        "  - The eighth digit should be 0.\n",
        "\n",
        "  - example\n",
        "    - Input: `71010330` -> Output: `True`\n",
        "    - Input: `98101033` -> Output: `False`"
      ],
      "metadata": {
        "id": "pq5KGbp7Mnna"
      }
    },
    {
      "cell_type": "code",
      "source": [
        "import re\n",
        "re_digit = re.compile(r'^[1-9]1010[0-5]{2}0$')\n",
        "input1 = '71010330'\n",
        "input2 = '98101033'\n",
        "print(re_digit.fullmatch(input1))\n",
        "print(re_digit.fullmatch(input2))"
      ],
      "metadata": {
        "colab": {
          "base_uri": "https://localhost:8080/"
        },
        "id": "In1T1X_GNVb_",
        "outputId": "e5573aa3-ef26-4a74-c5f6-2acc1f9180ac"
      },
      "execution_count": null,
      "outputs": [
        {
          "output_type": "stream",
          "name": "stdout",
          "text": [
            "<re.Match object; span=(0, 8), match='71010330'>\n",
            "None\n"
          ]
        }
      ]
    },
    {
      "cell_type": "markdown",
      "source": [
        "5. Count number of entire characters, digits, spaces, Capital and lower letters, and special characters. If possible, use visualization library"
      ],
      "metadata": {
        "id": "3aDKn4SmOPLE"
      }
    },
    {
      "cell_type": "code",
      "source": [
        "import requests\n",
        "import re\n",
        "url = 'http://www.gutenberg.org/files/64317/64317-0.txt'\n",
        "response = requests.get(url)\n",
        "response.encoding='utf-8'\n",
        "text = response.text\n",
        "\n",
        "print(\"### TEST ###\")\n",
        "print(len(text))\n",
        "print(text[:100])\n",
        "\n",
        "# number of entire letters\n",
        "print(f\"Number of entire letters: {len(text)}\")\n",
        "\n",
        "# number of digits\n",
        "re_digit = re.compile(r'\\d')\n",
        "digits = re_digit.findall(text)\n",
        "print(digits[:3])\n",
        "print(len(digits))\n",
        "print(f\"Number of digits: {len(digits)}\")\n",
        "\n"
      ],
      "metadata": {
        "colab": {
          "base_uri": "https://localhost:8080/"
        },
        "id": "uAeETVf3Ohp4",
        "outputId": "87bd10fc-6d1b-4670-9a1e-cc61a1e0ef78"
      },
      "execution_count": null,
      "outputs": [
        {
          "output_type": "stream",
          "name": "stdout",
          "text": [
            "### TEST ###\n",
            "296704\n",
            "﻿The Project Gutenberg eBook of The Great Gatsby, by F. Scott Fitzgerald\r\n",
            "\r\n",
            "This eBook is for the us\n",
            "Number of entire letters: 296704\n",
            "['1', '7', '2']\n",
            "232\n",
            "Number of digits: 232\n"
          ]
        }
      ]
    },
    {
      "cell_type": "code",
      "source": [
        "# number of Capital Letter\n",
        "re_capital = re.compile(r'[A-Z]')\n",
        "capitals = re_capital.findall(text)\n",
        "print(f\"Number of Capitals: {len(capitals)}\")"
      ],
      "metadata": {
        "colab": {
          "base_uri": "https://localhost:8080/"
        },
        "id": "lU_OvWkIdqSD",
        "outputId": "727c317a-1cc4-4811-ca12-62ffc3e063fd"
      },
      "execution_count": null,
      "outputs": [
        {
          "output_type": "stream",
          "name": "stdout",
          "text": [
            "Number of Capitals: 7714\n"
          ]
        }
      ]
    },
    {
      "cell_type": "code",
      "source": [
        "# number of small letter\n",
        "re_lower = re.compile(r'[a-z]')\n",
        "lowers = re_lower.findall(text)\n",
        "print(f\"Number of smalls: {len(lowers)}\")"
      ],
      "metadata": {
        "colab": {
          "base_uri": "https://localhost:8080/"
        },
        "id": "0tw5tz-WeJQ9",
        "outputId": "679f8196-2aa4-4d6a-c89d-8f4f6910c820"
      },
      "execution_count": null,
      "outputs": [
        {
          "output_type": "stream",
          "name": "stdout",
          "text": [
            "Number of smalls: 214107\n"
          ]
        }
      ]
    },
    {
      "cell_type": "code",
      "source": [
        "# number of special library\n",
        "re_special = re.compile(r'[^\\w\\s]')\n",
        "specials = re_special.findall(text)\n",
        "print(f\"Number of Special marks: {len(specials)}\")"
      ],
      "metadata": {
        "colab": {
          "base_uri": "https://localhost:8080/"
        },
        "id": "uEuAkUGjetbM",
        "outputId": "4fbda2b9-9709-4bf2-b6bc-51d4ee87364d"
      },
      "execution_count": null,
      "outputs": [
        {
          "output_type": "stream",
          "name": "stdout",
          "text": [
            "Number of Special marks: 14057\n"
          ]
        }
      ]
    },
    {
      "cell_type": "markdown",
      "source": [
        "6. Make Acronyms\n",
        "- make program that makes acronyms such as ORM, NASA, CS\n",
        "- Example\n",
        "  - input: `Object Relational Mapping`\n",
        "  - output: `ORM`"
      ],
      "metadata": {
        "id": "OL7Wlrxmfo_r"
      }
    },
    {
      "cell_type": "code",
      "source": [
        "import re\n",
        "input = \"Object Relational Mapping\"\n",
        "re_acronym = re.compile(r'[A-Z]')\n",
        "print(\"\".join(re_acronym.findall(input)))"
      ],
      "metadata": {
        "id": "xF_h09rlf4OL",
        "outputId": "2ceb1162-29a2-4c84-8944-e3cac5e6f24f",
        "colab": {
          "base_uri": "https://localhost:8080/"
        }
      },
      "execution_count": 1,
      "outputs": [
        {
          "output_type": "stream",
          "name": "stdout",
          "text": [
            "ORM\n"
          ]
        }
      ]
    },
    {
      "cell_type": "markdown",
      "source": [
        "7. Dice\n",
        "- 2 dices\n",
        "  - 1st one: `1~6`\n",
        "  - 2nd one: `A~D`, `!` and ` ` (space)\n",
        "- Rule\n",
        "  - Throw 1st and 2nd in a row.\n",
        "  - The 2nd dice has rules as below.\n",
        "    - `A`: double the score of 1st one. \n",
        "    - `B`: triple the score of 1st one.\n",
        "    - `C`: quadruple the score of 1st one. \n",
        "    - `D`: five-time the score of 1st one.\n",
        "    - `!`: square of the score until now. \n",
        "- Example\n",
        "  - input: `2A3A4!` -> output: 196\n",
        "  - input: `6!2C2C` -> output: 52"
      ],
      "metadata": {
        "id": "lRm3pxiRf4wi"
      }
    },
    {
      "cell_type": "code",
      "source": [
        "import re\n",
        "input_text = \"2A3A4!\"\n",
        "input_text = \"6!2C2C\"\n",
        "\n",
        "score = 0\n",
        "for i in range(len(input_text)):\n",
        "  if i % 2 == 0:   # odd index\n",
        "    temp = int(input_text[i])\n",
        "  else: # even index\n",
        "    if input_text[i] == 'A':\n",
        "      score = score + temp*2\n",
        "    elif input_text[i] == 'B':\n",
        "      score += temp*3\n",
        "    elif input_text[i] == 'C':\n",
        "      score += temp*4\n",
        "    elif input_text[i] == 'D':\n",
        "      score += temp*5\n",
        "    elif input_text[i] == '!':\n",
        "      score = (score + temp) ** 2\n",
        "\n",
        "print(score)\n",
        "\n"
      ],
      "metadata": {
        "id": "nBiOWi2Zg8GL",
        "outputId": "8645ebf7-02ad-4c8e-bf6e-2138c9734d7b",
        "colab": {
          "base_uri": "https://localhost:8080/"
        }
      },
      "execution_count": 12,
      "outputs": [
        {
          "output_type": "stream",
          "name": "stdout",
          "text": [
            "0 6\n",
            "1 !\n",
            "36\n",
            "2 2\n",
            "3 C\n",
            "44\n",
            "4 2\n",
            "5 C\n",
            "52\n",
            "52\n"
          ]
        }
      ]
    }
  ]
}