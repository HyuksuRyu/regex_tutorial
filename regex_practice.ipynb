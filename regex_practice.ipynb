{
  "nbformat": 4,
  "nbformat_minor": 0,
  "metadata": {
    "colab": {
      "name": "regex_practice.ipynb",
      "provenance": []
    },
    "kernelspec": {
      "name": "python3",
      "display_name": "Python 3"
    },
    "language_info": {
      "name": "python"
    }
  },
  "cells": [
    {
      "cell_type": "code",
      "execution_count": 1,
      "metadata": {
        "colab": {
          "base_uri": "https://localhost:8080/"
        },
        "id": "Lg3trVwGAxy2",
        "outputId": "b8478ccf-f5bc-40d3-c065-68d63c4c8d1b"
      },
      "outputs": [
        {
          "output_type": "execute_result",
          "data": {
            "text/plain": [
              "1"
            ]
          },
          "metadata": {},
          "execution_count": 1
        }
      ],
      "source": [
        "import re\n",
        "\n",
        "regex = re.compile('[a-f]')\n",
        "s = 'abcdefghijklmnopqrstuvwxyzABCDEFGHIJKLMNOPQRSTUVWXYZ01234567891011121314151617181920'\n",
        "\n",
        "regex.findall(s)\n",
        "regex.search(s).end()"
      ]
    },
    {
      "cell_type": "code",
      "source": [
        "regex.search(s).start()"
      ],
      "metadata": {
        "colab": {
          "base_uri": "https://localhost:8080/"
        },
        "id": "vEWq6XoJBl1X",
        "outputId": "8028698a-f89f-4b9e-9dae-54013c52f6b1"
      },
      "execution_count": null,
      "outputs": [
        {
          "output_type": "execute_result",
          "data": {
            "text/plain": [
              "0"
            ]
          },
          "metadata": {},
          "execution_count": 3
        }
      ]
    },
    {
      "cell_type": "code",
      "source": [
        "regex.search(s).end()"
      ],
      "metadata": {
        "colab": {
          "base_uri": "https://localhost:8080/"
        },
        "id": "Cxxg2eEiBmKe",
        "outputId": "7f83179c-61e7-423b-a9f5-518af47a8249"
      },
      "execution_count": null,
      "outputs": [
        {
          "output_type": "execute_result",
          "data": {
            "text/plain": [
              "1"
            ]
          },
          "metadata": {},
          "execution_count": 4
        }
      ]
    },
    {
      "cell_type": "code",
      "source": [
        "regex.search(s).span()"
      ],
      "metadata": {
        "colab": {
          "base_uri": "https://localhost:8080/"
        },
        "id": "ns9vWktmBmUG",
        "outputId": "e6b59036-5c5d-4851-b15a-48274388cef4"
      },
      "execution_count": null,
      "outputs": [
        {
          "output_type": "execute_result",
          "data": {
            "text/plain": [
              "(0, 1)"
            ]
          },
          "metadata": {},
          "execution_count": 5
        }
      ]
    },
    {
      "cell_type": "code",
      "source": [
        "# Tutorial 1\n",
        "import re\n",
        "re_eq = re.compile(r'([a-zA-Z]+) : (\\d+)')\n",
        "string = 'name : leehojun, age : 10, height : 180, email : paul-lab@naver.com'\n",
        "result = re_eq.search(string)\n",
        "\n",
        "print(f're.search(re_eq, string) : {result}')\n",
        "\n",
        "if result:\n",
        "  print(f'start: \\t{result.start()}')\n",
        "  print(f'end: \\t{result.end()}')\n",
        "  print(f'length: \\t{result.span()}')\n",
        "  print(f'group0: \\t{result.group(0)}')\n",
        "  print(f'group1: \\t{result.group(1)}')\n",
        "  print(f'group2: \\t{result.group(2)}')\n",
        "  print(f'groups: \\t{result.groups()}')\n",
        "  print(f'groupdict: \\t{result.groupdict()}')\n",
        "else:\n",
        "  print('no result')"
      ],
      "metadata": {
        "colab": {
          "base_uri": "https://localhost:8080/"
        },
        "id": "O6n2bNIIBmae",
        "outputId": "9b3faebb-01d9-4a70-cce2-8c38c58b4d8f"
      },
      "execution_count": 2,
      "outputs": [
        {
          "output_type": "stream",
          "name": "stdout",
          "text": [
            "re.search(re_eq, string) : <re.Match object; span=(17, 25), match='age : 10'>\n",
            "start: \t17\n",
            "end: \t25\n",
            "length: \t(17, 25)\n",
            "group0: \tage : 10\n",
            "group1: \tage\n",
            "group2: \t10\n",
            "groups: \t('age', '10')\n",
            "groupdict: \t{}\n"
          ]
        }
      ]
    },
    {
      "cell_type": "code",
      "source": [
        "result_findall = re_eq.findall(string)\n",
        "print(f're_eq.findall: {result_findall}')"
      ],
      "metadata": {
        "colab": {
          "base_uri": "https://localhost:8080/"
        },
        "id": "ApYgqbZ3Bmd3",
        "outputId": "168b2abd-d167-453f-9309-10811eacef19"
      },
      "execution_count": null,
      "outputs": [
        {
          "output_type": "stream",
          "name": "stdout",
          "text": [
            "re_eq.findall: [('age', '10'), ('height', '180')]\n",
            "['name : leehojun, ', 'age', '10', ', ', 'height', '180', ', email : paul-lab@naver.com']\n"
          ]
        }
      ]
    },
    {
      "cell_type": "code",
      "source": [
        "result = re_eq.finditer(string)\n",
        "print(f're.finditer(string): f{result}')"
      ],
      "metadata": {
        "colab": {
          "base_uri": "https://localhost:8080/"
        },
        "id": "Y4s5AgEmBmg2",
        "outputId": "622ffcfd-dfc7-4b3b-9d84-2c12be081a85"
      },
      "execution_count": null,
      "outputs": [
        {
          "output_type": "stream",
          "name": "stdout",
          "text": [
            "re.finditer(string): f<callable_iterator object at 0x7fd7c2281d10>\n"
          ]
        }
      ]
    },
    {
      "cell_type": "code",
      "source": [
        "for i in result:\n",
        "  print(i)\n",
        "  print(i.start(), i.end())\n",
        "  print(i.group())\n",
        "  print(i.group(1))\n",
        "  print(i.group(2))\n"
      ],
      "metadata": {
        "colab": {
          "base_uri": "https://localhost:8080/"
        },
        "id": "ksE1TZtkBmj2",
        "outputId": "9f9d6af9-368f-4e92-b7ab-49477a8b7dc3"
      },
      "execution_count": null,
      "outputs": [
        {
          "output_type": "stream",
          "name": "stdout",
          "text": [
            "<re.Match object; span=(17, 25), match='age : 10'>\n",
            "17 25\n",
            "age : 10\n",
            "age\n",
            "10\n",
            "<re.Match object; span=(27, 39), match='height : 180'>\n",
            "27 39\n",
            "height : 180\n",
            "height\n",
            "180\n"
          ]
        }
      ]
    },
    {
      "cell_type": "code",
      "source": [
        "# tutorial 3\n",
        "# regex split\n",
        "\n",
        "# default\n",
        "result = re_eq.split(string)\n",
        "print(result)"
      ],
      "metadata": {
        "colab": {
          "base_uri": "https://localhost:8080/"
        },
        "id": "A944yO05uSzc",
        "outputId": "8987489d-6af8-403e-bb1c-c651ec4e7064"
      },
      "execution_count": 3,
      "outputs": [
        {
          "output_type": "stream",
          "name": "stdout",
          "text": [
            "['name : leehojun, ', 'age', '10', ', ', 'height', '180', ', email : paul-lab@naver.com']\n"
          ]
        }
      ]
    },
    {
      "cell_type": "code",
      "source": [
        "# split by comma\n",
        "result = re.split(r',', string)\n",
        "print(result)"
      ],
      "metadata": {
        "colab": {
          "base_uri": "https://localhost:8080/"
        },
        "id": "Aw5rSLi8uzk0",
        "outputId": "d9ed8fa4-4284-4bfc-b099-eec964b5f0be"
      },
      "execution_count": 4,
      "outputs": [
        {
          "output_type": "stream",
          "name": "stdout",
          "text": [
            "['name : leehojun', ' age : 10', ' height : 180', ' email : paul-lab@naver.com']\n"
          ]
        }
      ]
    },
    {
      "cell_type": "code",
      "source": [
        "# split by comma with maximum split number\n",
        "result = re.split(r',', string, 2)\n",
        "print(result)"
      ],
      "metadata": {
        "colab": {
          "base_uri": "https://localhost:8080/"
        },
        "id": "opcajPBUuz_c",
        "outputId": "ea80927a-3b64-4edc-fff9-50230d760a2e"
      },
      "execution_count": 5,
      "outputs": [
        {
          "output_type": "stream",
          "name": "stdout",
          "text": [
            "['name : leehojun', ' age : 10', ' height : 180, email : paul-lab@naver.com']\n"
          ]
        }
      ]
    },
    {
      "cell_type": "markdown",
      "source": [
        "# Regex Substitution\n",
        "`re.sub({regex}, {to-be-replaced}, {string})`"
      ],
      "metadata": {
        "id": "C_NMRTVsvNGa"
      }
    },
    {
      "cell_type": "code",
      "source": [
        "# Tutorial 4\n",
        "re_comma = re.compile(r',')\n",
        "result = re_comma.sub(\"!!!\", string)\n",
        "print(f\"Before :\\t{string}\")\n",
        "print(f\"After :\\t{result}\")"
      ],
      "metadata": {
        "colab": {
          "base_uri": "https://localhost:8080/"
        },
        "id": "9L14S_yUvLDb",
        "outputId": "e0ef3059-af22-43bd-c2e1-401cce3d210d"
      },
      "execution_count": 8,
      "outputs": [
        {
          "output_type": "stream",
          "name": "stdout",
          "text": [
            "Before :\tname : leehojun, age : 10, height : 180, email : paul-lab@naver.com\n",
            "After :\tname : leehojun!!! age : 10!!! height : 180!!! email : paul-lab@naver.com\n"
          ]
        }
      ]
    },
    {
      "cell_type": "markdown",
      "source": [
        "# Tutorial 5 - Unzip pressed text\n",
        "## task\n",
        "- Press text `aaabbccc` -> `a3b2c3`\n",
        "- Make pressed text into the original\n"
      ],
      "metadata": {
        "id": "pK7rJOQZv457"
      }
    },
    {
      "cell_type": "code",
      "source": [
        "re_letter = re.compile(r'([a-z])([1-9])')\n",
        "string = 'a3b4c2'\n",
        "\n",
        "result = re_letter.findall(string)\n",
        "print(result) # make tuple as groupped\n",
        "s = ''\n",
        "\n",
        "for i, j in result:\n",
        "  print(f\"Letter {i}: Count {j}\")\n",
        "  s += i*int(j)\n",
        "\n",
        "print(s)"
      ],
      "metadata": {
        "colab": {
          "base_uri": "https://localhost:8080/"
        },
        "id": "4JJeLn0swPfo",
        "outputId": "a55c1604-f836-4dd1-a701-12d45ee96ab7"
      },
      "execution_count": 10,
      "outputs": [
        {
          "output_type": "stream",
          "name": "stdout",
          "text": [
            "[('a', '3'), ('b', '4'), ('c', '2')]\n",
            "Letter a: Count 3\n",
            "Letter b: Count 4\n",
            "Letter c: Count 2\n",
            "aaabbbbcc\n"
          ]
        }
      ]
    },
    {
      "cell_type": "markdown",
      "source": [
        "# Tutorial 6 - Convert dict to split form\n",
        "## Task\n",
        "### input\n",
        "```\n",
        "[(name, leehojun), (age, 10), (height, 180), (email, paul-lab@naver.com)]\n",
        "```\n",
        "\n",
        "### expected output\n",
        "```\n",
        "[('name', 'leehojun'),\n",
        "('age', '10'),\n",
        "('height', '180'),\n",
        "('email', paul-lab@naver.com')]\n",
        "```"
      ],
      "metadata": {
        "id": "RAr01raMxWfU"
      }
    },
    {
      "cell_type": "code",
      "source": [
        "import re\n",
        "re_p = re.compile(r'\\(([a-zA-Z0-9]+), ([a-zA-Z0-9\\-\\@\\.]+)\\)')\n",
        "\n",
        "string =  '[(name, leehojun), (age, 10), (height, 180), (email, paul-lab@naver.com)]'\n",
        "\n",
        "result = re_p.findall(string)\n",
        "'''\n",
        "print(\"[\")\n",
        "for slot, value in result:\n",
        "  print(f\"('{slot}', '{value}'),\")\n",
        "print(\"]\")\n",
        "'''\n",
        "\n",
        "print(result)\n"
      ],
      "metadata": {
        "colab": {
          "base_uri": "https://localhost:8080/"
        },
        "id": "7O2boXcExzFC",
        "outputId": "e7698669-e397-4433-d183-3b92c31ea7b8"
      },
      "execution_count": 13,
      "outputs": [
        {
          "output_type": "stream",
          "name": "stdout",
          "text": [
            "[('name', 'leehojun'), ('age', '10'), ('height', '180'), ('email', 'paul-lab@naver.com')]\n"
          ]
        }
      ]
    },
    {
      "cell_type": "markdown",
      "source": [
        "# Tutorial 7 - Convert string\n",
        "## Task\n",
        "### input\n",
        "```\n",
        "6746-29301-28391 신한은행\n",
        "```\n",
        "\n",
        "### expected output\n",
        "```\n",
        "신한은행!!! 6746 29301 28391\n",
        "```"
      ],
      "metadata": {
        "id": "I7IYnTSGzLGP"
      }
    },
    {
      "cell_type": "code",
      "source": [
        "re_pattern = re.compile(r\"(?P<one>\\d+)-(?P<two>\\d+)-(?P<three>\\d+) (?P<four>\\w+)\")\n",
        "string = \"6746-29301-28391 신한은행\"\n",
        "\n",
        "m = re_pattern.match(string)\n",
        "\n",
        "print(f\"{m.group(4)}!!! {m.group(1)} {m.group(2)} {m.group(3)}\")\n",
        "\n",
        "print(m.expand('\\g<four>!!! \\g<one> \\g<two> \\g<three>'))\n",
        "print(m.group(1))\n",
        "print(m.group('one'))\n",
        "print(m.groups())\n",
        "print(m.groupdict())\n"
      ],
      "metadata": {
        "colab": {
          "base_uri": "https://localhost:8080/"
        },
        "id": "niZyT72Ozcwi",
        "outputId": "e5b00cca-22e8-4d98-e1f8-2289ed613c44"
      },
      "execution_count": 16,
      "outputs": [
        {
          "output_type": "stream",
          "name": "stdout",
          "text": [
            "신한은행!!! 6746 29301 28391\n",
            "신한은행 !!! 6746 29301 28391\n",
            "6746\n",
            "6746\n",
            "('6746', '29301', '28391', '신한은행')\n",
            "{'one': '6746', 'two': '29301', 'three': '28391', 'four': '신한은행'}\n"
          ]
        }
      ]
    },
    {
      "cell_type": "code",
      "source": [
        "re_pattern = re.compile(r'(\\d+)-(\\d+)-(\\d+) (\\w+)')\n",
        "string = \"6746-29301-28391 신한은행\"\n",
        "re_pattern = re.compile(r'(?P<one>\\d+)-(?P<two>\\d+)-(?P<three>\\d+) (?P<bank>\\w+)')\n",
        "\n",
        "m = re_pattern.match(string)\n",
        "\n",
        "print(m)\n",
        "print(m.group(4))\n",
        "print(m.groups())\n",
        "print(m.groupdict()) #### if group name is not defined, gourpdict has no value at all. \n",
        "print(m.expand('\\g<bank>: \\g<one>&\\g<two>&\\g<three>'))\n",
        "print(m.group('bank'))"
      ],
      "metadata": {
        "colab": {
          "base_uri": "https://localhost:8080/"
        },
        "id": "QSQp4dRH1J5g",
        "outputId": "12dcb4c5-66da-4699-98e8-2c1118b5c094"
      },
      "execution_count": 21,
      "outputs": [
        {
          "output_type": "stream",
          "name": "stdout",
          "text": [
            "<re.Match object; span=(0, 21), match='6746-29301-28391 신한은행'>\n",
            "신한은행\n",
            "('6746', '29301', '28391', '신한은행')\n",
            "{'one': '6746', 'two': '29301', 'three': '28391', 'bank': '신한은행'}\n",
            "신한은행: 6746&29301&28391\n",
            "신한은행\n"
          ]
        }
      ]
    }
  ]
}