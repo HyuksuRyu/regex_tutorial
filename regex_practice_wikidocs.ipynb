{
  "nbformat": 4,
  "nbformat_minor": 0,
  "metadata": {
    "colab": {
      "name": "regex_practice_wikidocs.ipynb",
      "provenance": [],
      "authorship_tag": "ABX9TyOk0Q0j2aUeILTpZ5kaaXKR",
      "include_colab_link": true
    },
    "kernelspec": {
      "name": "python3",
      "display_name": "Python 3"
    },
    "language_info": {
      "name": "python"
    }
  },
  "cells": [
    {
      "cell_type": "markdown",
      "metadata": {
        "id": "view-in-github",
        "colab_type": "text"
      },
      "source": [
        "<a href=\"https://colab.research.google.com/github/HyuksuRyu/regex_tutorial/blob/main/regex_practice_wikidocs.ipynb\" target=\"_parent\"><img src=\"https://colab.research.google.com/assets/colab-badge.svg\" alt=\"Open In Colab\"/></a>"
      ]
    },
    {
      "cell_type": "markdown",
      "source": [
        "# RegEx 연습문제\n",
        "- Source: https://wikidocs.net/17114\n"
      ],
      "metadata": {
        "id": "dGEFXn_47icg"
      }
    },
    {
      "cell_type": "markdown",
      "source": [
        "## Q17 기초 메타 문자\n",
        "\n",
        "다음 중 정규식 `a[.]{3,}b`과 매치되는 문자열은 무엇일까?\n",
        "\n",
        "1. `acccb`\n",
        "2. `a....b`\n",
        "3. `aaab`\n",
        "4. `a.cccb`"
      ],
      "metadata": {
        "id": "yPYaeE8E7xPV"
      }
    },
    {
      "cell_type": "code",
      "execution_count": null,
      "metadata": {
        "id": "5CKht5hG7f1w"
      },
      "outputs": [],
      "source": [
        ""
      ]
    }
  ]
}