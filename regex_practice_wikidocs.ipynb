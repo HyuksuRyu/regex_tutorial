{
  "nbformat": 4,
  "nbformat_minor": 0,
  "metadata": {
    "colab": {
      "name": "regex_practice_wikidocs.ipynb",
      "provenance": [],
      "authorship_tag": "ABX9TyO+ik0ChZugCJO/otpB0xCz",
      "include_colab_link": true
    },
    "kernelspec": {
      "name": "python3",
      "display_name": "Python 3"
    },
    "language_info": {
      "name": "python"
    }
  },
  "cells": [
    {
      "cell_type": "markdown",
      "metadata": {
        "id": "view-in-github",
        "colab_type": "text"
      },
      "source": [
        "<a href=\"https://colab.research.google.com/github/HyuksuRyu/regex_tutorial/blob/main/regex_practice_wikidocs.ipynb\" target=\"_parent\"><img src=\"https://colab.research.google.com/assets/colab-badge.svg\" alt=\"Open In Colab\"/></a>"
      ]
    },
    {
      "cell_type": "markdown",
      "source": [
        "# RegEx 연습문제\n",
        "- Source: https://wikidocs.net/17114\n"
      ],
      "metadata": {
        "id": "dGEFXn_47icg"
      }
    },
    {
      "cell_type": "markdown",
      "source": [
        "## Q17 기초 메타 문자\n",
        "\n",
        "다음 중 정규식 `a[.]{3,}b`과 매치되는 문자열은 무엇일까?\n",
        "\n",
        "1. `acccb`\n",
        "2. `a....b`\n",
        "3. `aaab`\n",
        "4. `a.cccb`"
      ],
      "metadata": {
        "id": "yPYaeE8E7xPV"
      }
    },
    {
      "cell_type": "code",
      "execution_count": 2,
      "metadata": {
        "colab": {
          "base_uri": "https://localhost:8080/"
        },
        "id": "5CKht5hG7f1w",
        "outputId": "3c28917d-bb4b-4dd7-86f3-4b258484aa29"
      },
      "outputs": [
        {
          "output_type": "stream",
          "name": "stdout",
          "text": [
            "None\n",
            "<re.Match object; span=(0, 6), match='a....b'>\n",
            "None\n",
            "None\n"
          ]
        }
      ],
      "source": [
        "import re\n",
        "\n",
        "text1 = 'acccb'\n",
        "text2 = 'a....b'\n",
        "text3 = 'aaab'\n",
        "text4 = 'a.cccb'\n",
        "\n",
        "re_pat = re.compile(r'a[.]{3,}b')\n",
        "print(re_pat.match(text1))\n",
        "print(re_pat.match(text2))\n",
        "print(re_pat.match(text3))\n",
        "print(re_pat.match(text4))"
      ]
    },
    {
      "cell_type": "markdown",
      "source": [
        "## Q18 문자열 검색\n",
        "\n",
        "다음 코드의 결괏값은 무엇일까?\n",
        "\n",
        "```python \n",
        ">>> import re\n",
        ">>> p = re.compile(\"[a-z]+\")\n",
        ">>> m = p.search(\"5 python\")\n",
        ">>> m.start() + m.end()\n",
        "```"
      ],
      "metadata": {
        "id": "ylzuac8MEh4X"
      }
    },
    {
      "cell_type": "code",
      "source": [
        "import re\n",
        "p = re.compile(r\"[a-z]+\")\n",
        "m = p.search(\"5 python\")\n",
        "print(m.start() + m.end())\n",
        "print(m.start())\n",
        "print(m.end())"
      ],
      "metadata": {
        "colab": {
          "base_uri": "https://localhost:8080/"
        },
        "id": "d61r5ijfEn-Q",
        "outputId": "01ba15d1-6e9c-4319-c5a6-4a7d1d5c9254"
      },
      "execution_count": 3,
      "outputs": [
        {
          "output_type": "stream",
          "name": "stdout",
          "text": [
            "10\n",
            "2\n",
            "8\n"
          ]
        }
      ]
    },
    {
      "cell_type": "markdown",
      "source": [
        "## Q19 그루핑\n",
        "\n",
        "다음과 같은 문자열에서 휴대폰 번호 뒷자리인 숫자 4개를 ####로 바꾸는 프로그램을 정규식을 사용하여 작성하시오.\n",
        "\n",
        "```\n",
        "park 010-9999-9988\n",
        "kim 010-9909-7789\n",
        "lee 010-8789-7768\n",
        "```\n"
      ],
      "metadata": {
        "id": "e4prmNTaEoU6"
      }
    },
    {
      "cell_type": "code",
      "source": [
        "text = \"\"\"\n",
        "park 010-9999-9988\n",
        "kim 010-9909-7789\n",
        "lee 010-8789-7768\n",
        "\"\"\"\n",
        "\n",
        "re_pat = re.compile(r'(?<=\\d{4}\\-)(\\d{4})$', re.M)\n",
        "new_text = re_pat.sub('####', text)\n",
        "print(new_text)"
      ],
      "metadata": {
        "colab": {
          "base_uri": "https://localhost:8080/"
        },
        "id": "34WxqLruEwfz",
        "outputId": "a210e55f-e672-46a1-d428-b93619aae884"
      },
      "execution_count": 5,
      "outputs": [
        {
          "output_type": "stream",
          "name": "stdout",
          "text": [
            "\n",
            "park 010-9999-####\n",
            "kim 010-9909-####\n",
            "lee 010-8789-####\n",
            "\n"
          ]
        }
      ]
    },
    {
      "cell_type": "markdown",
      "source": [
        "## Q20 전방 탐색\n",
        "\n",
        "다음은 이메일 주소를 나타내는 정규식이다. 이 정규식은 park@naver.com, kim@daum.net, lee@myhome.co.kr 등과 매치된다. 긍정형 전방 탐색 기법을 사용하여 .com, .net이 아닌 이메일 주소는 제외시키는 정규식을 작성하시오.\n",
        "\n",
        "```\n",
        ".*[@].*[.].*$\n",
        "```"
      ],
      "metadata": {
        "id": "h9PWU-AWEw0Y"
      }
    },
    {
      "cell_type": "code",
      "source": [
        "email = \"\"\"\n",
        "park@naver.com\n",
        "kim@daum.net\n",
        "lee@myhome.co.kr\n",
        "\"\"\"\n",
        "\n",
        "re_pat = re.compile(r'(.*[@].*[.].*(?=com$|net$).+$)', re.M)\n",
        "#re_pat = re.compile(r\"(.*[@].*[.](?=com$|net$).*$)\", re.M)\n",
        "print(re_pat.findall(email))\n",
        "\n"
      ],
      "metadata": {
        "colab": {
          "base_uri": "https://localhost:8080/"
        },
        "id": "VI8E3NL4E5_0",
        "outputId": "59c1eb78-e02f-4957-ceff-7710a02a40db"
      },
      "execution_count": 23,
      "outputs": [
        {
          "output_type": "stream",
          "name": "stdout",
          "text": [
            "['park@naver.com', 'kim@daum.net']\n"
          ]
        }
      ]
    }
  ]
}