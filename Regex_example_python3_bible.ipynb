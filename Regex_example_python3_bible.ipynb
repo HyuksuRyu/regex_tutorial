{
  "nbformat": 4,
  "nbformat_minor": 0,
  "metadata": {
    "colab": {
      "name": "Regex_example_python3_bible.ipynb",
      "provenance": [],
      "authorship_tag": "ABX9TyPoZNG5OhJFLYn/3KDw5BHZ",
      "include_colab_link": true
    },
    "kernelspec": {
      "name": "python3",
      "display_name": "Python 3"
    },
    "language_info": {
      "name": "python"
    }
  },
  "cells": [
    {
      "cell_type": "markdown",
      "metadata": {
        "id": "view-in-github",
        "colab_type": "text"
      },
      "source": [
        "<a href=\"https://colab.research.google.com/github/HyuksuRyu/regex_tutorial/blob/main/Regex_example_python3_bible.ipynb\" target=\"_parent\"><img src=\"https://colab.research.google.com/assets/colab-badge.svg\" alt=\"Open In Colab\"/></a>"
      ]
    },
    {
      "cell_type": "markdown",
      "source": [
        "## p.788 Extract URL\n",
        "```\n",
        "s = '''<a href=\"http://www.daum.net\">daum</a>\n",
        "<a href='http://naver.com'>naver</a>\n",
        "<a href=http://www.chosun.com>chosun</a>\n",
        "<a href=http://www.chosun.com class>chosun</a>\n",
        "<a href=\"http://job.daum.net/ \" target=\"new\">\n",
        "<a href=\"http://go.daum.net/bin/go.cgi?relative=1&url=/Mailbin/login_f.cgi%3Ferror%3Dlogin\" class=\"tls0\">\n",
        "'''\n",
        "```\n",
        "\n",
        "Extract URL in `<a>` tag only\n",
        "\n",
        "- result\n",
        "```\n",
        "http://www.daum.net\n",
        "http://www.naver.com\n",
        "http://www.chosun.com\n",
        "http://www.chosun.com\n",
        "http://job.daum.net/\n",
        "http://go.daum.net/bin/go.cgi?relative=1&url=/Mailbin/login_f.cgi%3Ferror%3Dlogin\n",
        "\n",
        "```"
      ],
      "metadata": {
        "id": "ZhHlXNOFrsw1"
      }
    },
    {
      "cell_type": "code",
      "execution_count": 4,
      "metadata": {
        "colab": {
          "base_uri": "https://localhost:8080/"
        },
        "id": "sZFycKhGp6uo",
        "outputId": "cf6b39d6-da4c-4829-8977-008d11d95bb0"
      },
      "outputs": [
        {
          "output_type": "stream",
          "name": "stdout",
          "text": [
            "http://www.daum.net\n",
            "http://naver.com\n",
            "http://www.chosun.com\n",
            "http://www.chosun.com\n",
            "http://job.daum.net/\n",
            "http://go.daum.net/bin/go.cgi?relative=1&url=/Mailbin/login_f.cgi%3Ferror%3Dlogin\n"
          ]
        }
      ],
      "source": [
        "import re\n",
        "s = '''<a href=\"http://www.daum.net\">daum</a>\n",
        "<a href='http://naver.com'>naver</a>\n",
        "<a href=http://www.chosun.com>chosun</a>\n",
        "<a href=http://www.chosun.com class>chosun</a>\n",
        "<a href=\"http://job.daum.net/ \" target=\"new\">\n",
        "<a href=\"http://go.daum.net/bin/go.cgi?relative=1&url=/Mailbin/login_f.cgi%3Ferror%3Dlogin\" class=\"tls0\">\n",
        "'''\n",
        "\n",
        "re_pat = re.compile(r'href=[\\'\\\"]?(http://\\S+?)[ \\\"\\'\\>]')\n",
        "\n",
        "for res in re_pat.findall(s):\n",
        "  print(res)\n",
        "\n"
      ]
    },
    {
      "cell_type": "markdown",
      "source": [
        "## Extract ID\n",
        "- text\n",
        "```\n",
        "text = \"\"\"\n",
        "821201-1234567\n",
        "8212011234567\n",
        "\"\"\"\n",
        "```\n",
        "\n",
        "- result\n",
        "```\n",
        "('821201', '1234567')\n",
        "('821201', '1234567')\n",
        "```"
      ],
      "metadata": {
        "id": "NM9xNX8kxmDW"
      }
    },
    {
      "cell_type": "code",
      "source": [
        "import re\n",
        "\n",
        "text = \"\"\"\n",
        "821201-1234567\n",
        "8212022234567\n",
        "\"\"\"\n",
        "\n",
        "re_pat = re.compile(r'(?P<birth>\\d{6})[-]?(?P<id>\\d{7})')\n",
        "\n",
        "for res in re_pat.finditer(text):\n",
        "  print(f\"Birthday: {res.group('birth')} ID: {res.group('id')}\")"
      ],
      "metadata": {
        "colab": {
          "base_uri": "https://localhost:8080/"
        },
        "id": "7nKoIRUtxneQ",
        "outputId": "43a3939c-0c0a-40e0-de71-f532233f760b"
      },
      "execution_count": 6,
      "outputs": [
        {
          "output_type": "stream",
          "name": "stdout",
          "text": [
            "Birthday: 821201 ID: 1234567\n",
            "Birthday: 821202 ID: 2234567\n"
          ]
        }
      ]
    },
    {
      "cell_type": "markdown",
      "source": [
        "## Add `<a>` tag and extract e-mail from normal text\n",
        "\n",
        "- text\n",
        "```\n",
        "text = \"\"\"\n",
        "The member list\n",
        "gslee@mail.kw.ac.kr Lee\n",
        "sunny@pythonworld.net Yoon\n",
        "\"\"\"\n",
        "```\n",
        "\n",
        "- result\n",
        "```\n",
        "'<a href=\"mailto:gslee@mail.kw.ac.kr\">gslee@mail.kw.ac.kr</a>' \n",
        "'<a href=\"mailto:sunny@pythonworld.net\">sunny@pythonworld.net</a>'\n",
        "```"
      ],
      "metadata": {
        "id": "7wn_-By24Kan"
      }
    },
    {
      "cell_type": "code",
      "source": [
        "import re\n",
        "\n",
        "text = \"\"\"\n",
        "The member list\n",
        "gslee@mail.kw.ac.kr Lee\n",
        "sunny@pythonworld.net Yoon\n",
        "\"\"\"\n",
        "re_pat = re.compile(r'(?P<mail>\\w+\\@(\\w+\\.)+\\w+)')\n",
        "#print(re_pat.sub('<a href=\"mailto:\\g<mail>\">\\g<mail></a>', text))\n",
        "\n",
        "\n",
        "for res in re_pat.finditer(text):\n",
        "  print(res.group())\n",
        "  #print(f'<a href=\"mailto:{res.group()}\">{res.group()}</a>')\n",
        "  print(re_pat.sub('<a href=\"mailto:\\g<mail>\"><\\g<mail></a>',res.group()))\n"
      ],
      "metadata": {
        "colab": {
          "base_uri": "https://localhost:8080/"
        },
        "id": "Gaugl-O17m9j",
        "outputId": "9c714698-4b52-48d5-ea34-96c8ba9fe489"
      },
      "execution_count": 31,
      "outputs": [
        {
          "output_type": "stream",
          "name": "stdout",
          "text": [
            "gslee@mail.kw.ac.kr\n",
            "<a href=\"mailto:gslee@mail.kw.ac.kr\"><gslee@mail.kw.ac.kr</a>\n",
            "sunny@pythonworld.net\n",
            "<a href=\"mailto:sunny@pythonworld.net\"><sunny@pythonworld.net</a>\n"
          ]
        }
      ]
    }
  ]
}