{
  "cells": [
    {
      "cell_type": "markdown",
      "metadata": {
        "id": "view-in-github",
        "colab_type": "text"
      },
      "source": [
        "<a href=\"https://colab.research.google.com/github/HyuksuRyu/regex_tutorial/blob/main/simplifying%20regular%20expression%20using%20python.ipynb\" target=\"_parent\"><img src=\"https://colab.research.google.com/assets/colab-badge.svg\" alt=\"Open In Colab\"/></a>"
      ]
    },
    {
      "cell_type": "code",
      "source": [
        "import re\n",
        "my_string = input(\"Enter a string: \")\n",
        "pattern = re.compile(r\"[0-9]+\")\n",
        "result = pattern.sub(\"_\", my_string)\n",
        "print(result)"
      ],
      "execution_count": null,
      "outputs": [
        {
          "name": "stdout",
          "text": [
            "Enter a string:  john123\n",
            "john_\n"
          ],
          "output_type": "stream"
        }
      ],
      "metadata": {
        "jupyter": {
          "source_hidden": false,
          "outputs_hidden": false
        },
        "datalore": {
          "type": "CODE",
          "sheet_delimiter": false
        },
        "id": "T2cyrm05s_c4",
        "outputId": "bcafc7e3-78fd-4749-9e2a-d7c126d3a57d"
      }
    },
    {
      "cell_type": "code",
      "source": [
        "import re\n",
        "my_string = input(\"Enter a string: \")\n",
        "pattern = re.compile(r\"[0-9]\")\n",
        "result = pattern.sub(\"_\", my_string)\n",
        "print(result)"
      ],
      "execution_count": null,
      "outputs": [
        {
          "name": "stdout",
          "text": [
            "Enter a string:  john123\n",
            "john___\n"
          ],
          "output_type": "stream"
        }
      ],
      "metadata": {
        "jupyter": {
          "source_hidden": false,
          "outputs_hidden": false
        },
        "datalore": {
          "type": "CODE",
          "sheet_delimiter": false
        },
        "id": "6JrW6XQXs_c7",
        "outputId": "0d6ecb4c-4241-4282-aff9-ccc34cd6fb7c"
      }
    },
    {
      "cell_type": "code",
      "source": [
        "import re\n",
        "my_string = input(\"Enter a string: \")\n",
        "pattern = re.compile(r\"\\d+\")\n",
        "result = pattern.sub(\"$\", my_string)\n",
        "print(result)"
      ],
      "execution_count": null,
      "outputs": [
        {
          "name": "stdout",
          "text": [
            "Enter a string:  2fast2furious\n",
            "$fast$furious\n"
          ],
          "output_type": "stream"
        }
      ],
      "metadata": {
        "jupyter": {
          "source_hidden": false,
          "outputs_hidden": false
        },
        "datalore": {
          "type": "CODE",
          "sheet_delimiter": false
        },
        "id": "EuhUJ-6Fs_c8",
        "outputId": "5fcc7f96-bfb4-4d10-b211-a63a3d75d76d"
      }
    },
    {
      "cell_type": "code",
      "source": [
        "# Do it yourself\n",
        "# Write a program using RegEx that will replace all the digits in a string with an exclamation sign\n",
        "import re\n",
        "my_string = input(\"Enter a string: \")\n",
        "pattern = re.compile(r\"\\d\")\n",
        "result = pattern.sub(\"!\", my_string)\n",
        "print(result)"
      ],
      "execution_count": null,
      "outputs": [
        {
          "name": "stdout",
          "text": [
            "Enter a string:  123john123\n",
            "!!!john!!!\n"
          ],
          "output_type": "stream"
        }
      ],
      "metadata": {
        "jupyter": {
          "source_hidden": false,
          "outputs_hidden": false
        },
        "datalore": {
          "type": "CODE",
          "sheet_delimiter": false
        },
        "id": "I6XwyXIps_c9",
        "outputId": "61430135-0186-47f1-b00d-988a5ebc9096"
      }
    },
    {
      "cell_type": "code",
      "source": [
        "# chapter 3\n",
        "# string manipulation using RegEx"
      ],
      "execution_count": null,
      "outputs": [],
      "metadata": {
        "jupyter": {
          "source_hidden": false,
          "outputs_hidden": false
        },
        "datalore": {
          "type": "CODE",
          "sheet_delimiter": false
        },
        "id": "7GeqSsw9s_c9"
      }
    },
    {
      "cell_type": "code",
      "source": [
        "# Task 1 \n",
        "# Write a program that will replace all the non-digits in a string with a '_' sign\n",
        "import re\n",
        "my_string = input(\"Enter a string: \")\n",
        "pattern = re.compile(r\"\\D\")\n",
        "result = pattern.sub(\"_\", my_string)\n",
        "print(result)"
      ],
      "execution_count": null,
      "outputs": [
        {
          "name": "stdout",
          "text": [
            "Enter a string:  tonystark123\n",
            "_________123\n"
          ],
          "output_type": "stream"
        }
      ],
      "metadata": {
        "jupyter": {
          "source_hidden": false,
          "outputs_hidden": false
        },
        "datalore": {
          "type": "CODE",
          "sheet_delimiter": false
        },
        "id": "vU-ZAcdws_c-",
        "outputId": "7f3981cd-035e-4665-c3b1-00ea7c28924f"
      }
    },
    {
      "cell_type": "code",
      "source": [
        "import re\n",
        "my_string = input(\"Enter a string: \")\n",
        "pattern = re.compile(r\"\\D+\")\n",
        "result = pattern.sub(\"_\", my_string)\n",
        "print(result)"
      ],
      "execution_count": null,
      "outputs": [
        {
          "name": "stdout",
          "text": [
            "Enter a string:  123tony456\n",
            "123_456\n"
          ],
          "output_type": "stream"
        }
      ],
      "metadata": {
        "jupyter": {
          "source_hidden": false,
          "outputs_hidden": false
        },
        "datalore": {
          "type": "CODE",
          "sheet_delimiter": false
        },
        "id": "oGGSku2is_c-",
        "outputId": "ce72ac66-defd-43da-f1ef-af5cdc8bdd0b"
      }
    },
    {
      "cell_type": "code",
      "source": [
        "# what if in order to find out all the digits in the input string? \n",
        "# findall\n",
        "import re\n",
        "my_string = input(\"Enter a string: \")\n",
        "result = re.findall(r\"\\d\", my_string)\n",
        "print(result)"
      ],
      "execution_count": null,
      "outputs": [
        {
          "name": "stdout",
          "text": [
            "Enter a string:  bond007\n",
            "['0', '0', '7']\n"
          ],
          "output_type": "stream"
        }
      ],
      "metadata": {
        "jupyter": {
          "source_hidden": false,
          "outputs_hidden": false
        },
        "datalore": {
          "type": "CODE",
          "sheet_delimiter": false
        },
        "id": "yN8-b4lVs_c_",
        "outputId": "ae9c8702-b297-4934-daa8-27b5a1a6ea7f"
      }
    },
    {
      "cell_type": "code",
      "source": [
        "# Task 2\n",
        "# Write a program to verify the 1st letter of the input string is correct as it was entered\n",
        "import re\n",
        "\n",
        "my_str = \"Bond! James Bond\"\n",
        "pattern = re.findall(\"^Bond\", my_str)\n",
        "if (pattern):\n",
        "  print(\"Yes, the string starts with 'Bond'\")\n",
        "else:\n",
        "  print(\"No Match\")"
      ],
      "metadata": {
        "colab": {
          "base_uri": "https://localhost:8080/"
        },
        "id": "HJ3hPV5ltA4s",
        "outputId": "82f652fc-b56b-4eb6-9e7c-c2ce0df6bdb0"
      },
      "execution_count": null,
      "outputs": [
        {
          "output_type": "stream",
          "name": "stdout",
          "text": [
            "Yes, the string starts with 'Bond'\n"
          ]
        }
      ]
    },
    {
      "cell_type": "code",
      "source": [
        "# Task 3\n",
        "# Write a program to veryfy the last letter of the input string is correct as it was entered\n",
        "import re\n",
        "\n",
        "my_str = \"Bond! James Bond 007\"\n",
        "re_pat = re.compile(r\"7$\")\n",
        "pattern = re_pat.findall(my_str)\n",
        "print(pattern)\n",
        "if (pattern):\n",
        "  print(\"Yes\")\n",
        "else:\n",
        "  print(\"No\")"
      ],
      "metadata": {
        "colab": {
          "base_uri": "https://localhost:8080/"
        },
        "id": "1gdL0n95wbDT",
        "outputId": "92b43ee8-9a4e-4cdd-bde9-2cc30bb927f8"
      },
      "execution_count": null,
      "outputs": [
        {
          "output_type": "stream",
          "name": "stdout",
          "text": [
            "['7']\n",
            "Yes\n"
          ]
        }
      ]
    },
    {
      "cell_type": "code",
      "source": [
        "# Task 4\n",
        "# Write a program to verify the 1st letter of the input string is correct as it was entered without using the ^ operator\n",
        "import re\n",
        "my_str = \"Patience is the key to success\"\n",
        "re_pattern = re.compile(r'\\APatience')\n",
        "result = re_pattern.findall(my_str)\n",
        "print(result)"
      ],
      "metadata": {
        "colab": {
          "base_uri": "https://localhost:8080/"
        },
        "id": "SmksAAz0ymaA",
        "outputId": "ce2ef9af-ec81-46c7-c7c1-608f3ad431a1"
      },
      "execution_count": null,
      "outputs": [
        {
          "output_type": "stream",
          "name": "stdout",
          "text": [
            "['Patience']\n"
          ]
        }
      ]
    },
    {
      "cell_type": "code",
      "source": [
        "import re\n",
        "my_str = \"The truth is ... I am The Iron Man\"\n",
        "re_pattern = re.compile(r'The')\n",
        "result_findall = re_pattern.findall(my_str)\n",
        "result_search = re_pattern.search(my_str)\n",
        "\n",
        "print(result_findall)\n",
        "print(result_search)\n"
      ],
      "metadata": {
        "colab": {
          "base_uri": "https://localhost:8080/"
        },
        "id": "xCIFnK7kzUfN",
        "outputId": "457e2ed7-21d5-4677-9d64-78b0c718f251"
      },
      "execution_count": null,
      "outputs": [
        {
          "output_type": "stream",
          "name": "stdout",
          "text": [
            "['The', 'The']\n",
            "<re.Match object; span=(0, 3), match='The'>\n"
          ]
        }
      ]
    },
    {
      "cell_type": "code",
      "source": [
        "# Split function\n",
        "import re\n",
        "my_str = \"We are Venom\"\n",
        "result = re.split(\"\\s\", my_str)\n",
        "print(result)\n",
        "result1 = re.split(\"\\s\", my_str, 1)\n",
        "print(result1)\n"
      ],
      "metadata": {
        "colab": {
          "base_uri": "https://localhost:8080/"
        },
        "id": "252DygkvzrKL",
        "outputId": "c2d27053-22d3-44fa-9ded-f11aa7522e09"
      },
      "execution_count": null,
      "outputs": [
        {
          "output_type": "stream",
          "name": "stdout",
          "text": [
            "['We', 'are', 'Venom']\n",
            "['We', 'are Venom']\n"
          ]
        }
      ]
    },
    {
      "cell_type": "code",
      "source": [
        "# Match object\n",
        "# .span() -> (start, end)\n",
        "# .string -> string passed into the function\n",
        "# .group() -> the part of the string where there was a match\n",
        "\n",
        "# Task 6\n",
        "# program to search for an upper case character at the beginning of a word and print its postion\n",
        "import re \n",
        "my_str = \"I am Iron Man\"\n",
        "result = re.search(r\"\\bM\\w+\", my_str)\n",
        "print(result.span())\n",
        "print(result.start())\n",
        "print(result.end())\n",
        "print(result.string)\n",
        "print(result.group())\n",
        "\n",
        "re_pat = re.compile(r\"([A-Z]\\w+) ([A-Z]\\w+)\")\n",
        "result = re_pat.findall(my_str)\n",
        "print(result)\n",
        "\n"
      ],
      "metadata": {
        "colab": {
          "base_uri": "https://localhost:8080/"
        },
        "id": "2_Poe1fp1f5y",
        "outputId": "c2b6b38b-1291-4652-bacc-86ff8a93f6b9"
      },
      "execution_count": null,
      "outputs": [
        {
          "output_type": "stream",
          "name": "stdout",
          "text": [
            "(10, 13)\n",
            "10\n",
            "13\n",
            "I am Iron Man\n",
            "Man\n"
          ]
        }
      ]
    },
    {
      "cell_type": "code",
      "source": [
        "# Group\n",
        "import re \n",
        "my_str = \"I am Iron Man\"\n",
        "\n",
        "re_pat = re.compile(r\"(?P<w1>[A-Z]\\w+) (?P<w2>[A-Z]\\w+)\")\n",
        "result = re_pat.findall(my_str)\n",
        "print(result)\n",
        "\n",
        "print(re_pat.search(my_str).groups())\n",
        "print(re_pat.search(my_str).groupdict())\n",
        "\n",
        "\n",
        "print(re_pat.search(my_str).group('w1'))\n",
        "print(re_pat.search(my_str).group('w2'))\n"
      ],
      "metadata": {
        "colab": {
          "base_uri": "https://localhost:8080/"
        },
        "id": "hy1ucDpa2NTC",
        "outputId": "61ee7aa1-1b2c-4cae-80b0-de63ea92f5ae"
      },
      "execution_count": null,
      "outputs": [
        {
          "output_type": "stream",
          "name": "stdout",
          "text": [
            "[('Iron', 'Man')]\n",
            "('Iron', 'Man')\n",
            "{'w1': 'Iron', 'w2': 'Man'}\n",
            "Iron\n",
            "Man\n"
          ]
        }
      ]
    },
    {
      "cell_type": "code",
      "source": [
        "# Task 7\n",
        "# Write a program to search for an upper case character at the BEGINNING of a word,\n",
        "# and print that complete word\n",
        "import re\n",
        "my_str = \"I am Iron Man maN\"\n",
        "re_pat = re.compile(r\"\\b[A-Z]\\w+\\b\")\n",
        "re_pat2 = re.compile(r\"\\b\\w+[A-Z]\\b\")\n",
        "\n",
        "print(re_pat.findall(my_str))\n",
        "print(re_pat2.findall(my_str))\n",
        "\n",
        "print(re_pat2.search(my_str).group())\n",
        "print(re_pat2.search(my_str).span())\n",
        "\n",
        "\n"
      ],
      "metadata": {
        "colab": {
          "base_uri": "https://localhost:8080/"
        },
        "id": "mtmGtbtF4Zo5",
        "outputId": "8e264e40-54c2-4ae4-d98a-f276bef7a1ba"
      },
      "execution_count": null,
      "outputs": [
        {
          "output_type": "stream",
          "name": "stdout",
          "text": [
            "['Iron', 'Man']\n",
            "['maN']\n",
            "maN\n",
            "(14, 17)\n"
          ]
        }
      ]
    },
    {
      "cell_type": "code",
      "source": [
        "# Chapter 4 (day 3)\n",
        "# Password Validation\n",
        "\n",
        "# Task 1\n",
        "# Write a program to simply generate a password\n",
        "# that consists of numbers and characters\n",
        "\n",
        "# Condition\n",
        "# at least 8 characters long\n",
        "# at least 1 digit & 1 special character\n",
        "# 1st character in uppercase\n",
        "re_pattern = re.compile(r'[\\w\\@\\#\\$%\\^&\\*\\+\\=]{8,}')\n",
        "my_str = \"Stark123#@$*+=^\"\n",
        "if not re.search(r'\\d', my_str):\n",
        "  raise ValueError\n",
        "elif not re.search(r'[\\@\\#\\$\\%\\^\\&\\*\\+\\=]', my_str):\n",
        "  raise ValueError\n",
        "elif my_str and not my_str[0].isupper():\n",
        "  raise ValueError\n",
        "elif re_pattern.match(my_str):\n",
        "  print(\"OK\")\n",
        "else:\n",
        "  raise ValueError\n",
        "\n"
      ],
      "metadata": {
        "id": "7CF7Ji4T6aaI",
        "outputId": "7c7d23cf-bae0-430e-8f67-7d21b82cc6fd",
        "colab": {
          "base_uri": "https://localhost:8080/"
        }
      },
      "execution_count": null,
      "outputs": [
        {
          "output_type": "stream",
          "name": "stdout",
          "text": [
            "OK\n"
          ]
        }
      ]
    },
    {
      "cell_type": "code",
      "source": [
        "import re\n",
        "username = input(\"Enter a username: \")\n",
        "pattern = re.compile(r\"^[a-zA-Z0-9]([._](?![._])|[a-zA-Z0-9])$\")\n",
        "result = pattern.match(username)\n",
        "print(result)\n",
        "if result:\n",
        "  print(\"OK\")\n",
        "else:\n",
        "  print(\"Invalid\")"
      ],
      "metadata": {
        "id": "ByyfLXZziXl0",
        "outputId": "c2d83d7a-bd34-4a0e-90c9-022f17a8af04",
        "colab": {
          "base_uri": "https://localhost:8080/"
        }
      },
      "execution_count": 4,
      "outputs": [
        {
          "output_type": "stream",
          "name": "stdout",
          "text": [
            "Enter a username: _tony\n",
            "None\n",
            "Invalid\n"
          ]
        }
      ]
    },
    {
      "cell_type": "code",
      "source": [
        "# Chapter 6 (day 5)\n",
        "# E-mail ID validation\n",
        "\n",
        "# Task 1\n",
        "# validate an e-mail ID\n",
        "#Criteria\n",
        "# 1. can begin with any character\n",
        "# 2. ID can have 2 or more parts (i.e. abc_def or abc.def)\n",
        "# 3. 1&2 -> Email ID PART 1\n",
        "# 4. PART 2: must be a '@' symbol followed by mail server name\n",
        "# 5. after mail server name, '.' sign followed by com or co.uk\n",
        "\n",
        "# PART2 first\n",
        "import re \n",
        "user_login = input('Ender 2nd part of email ID: ')\n",
        "re_pat = re.compile(r'^(\\W|[_a-z0-9A-Z-]+)*(\\W[_a-z0-9-]+)*'\\\n",
        "                    '@\\w+(\\.\\w+)*'\\\n",
        "                    '(\\.[a-zA-Z]{1,255})$')\n",
        "\n",
        "m = re_pat.match(user_login)\n",
        "if m == None:\n",
        "  print('Invalid')\n",
        "else:\n",
        "  print(m)\n"
      ],
      "metadata": {
        "id": "2_1nD5mojsy9",
        "outputId": "4de1462a-b133-42a7-9faa-0e8f4e7d56a8",
        "colab": {
          "base_uri": "https://localhost:8080/"
        }
      },
      "execution_count": 11,
      "outputs": [
        {
          "output_type": "stream",
          "name": "stdout",
          "text": [
            "Ender 2nd part of email ID: tony@avengers.com\n",
            "<re.Match object; span=(0, 17), match='tony@avengers.com'>\n"
          ]
        }
      ]
    }
  ],
  "metadata": {
    "datalore": {
      "version": 1,
      "computation_mode": "JUPYTER",
      "package_manager": "pip",
      "base_environment": "default",
      "packages": []
    },
    "colab": {
      "name": "simplifying regular expression using python.ipynb",
      "provenance": [],
      "include_colab_link": true
    },
    "language_info": {
      "name": "python"
    },
    "kernelspec": {
      "name": "python3",
      "display_name": "Python 3"
    }
  },
  "nbformat": 4,
  "nbformat_minor": 0
}