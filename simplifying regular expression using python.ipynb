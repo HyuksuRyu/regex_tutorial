{
  "cells":[
    {
      "cell_type":"code",
      "source":[
        "import re\n",
        "my_string = input(\"Enter a string: \")\n",
        "pattern = re.compile(r\"[0-9]+\")\n",
        "result = pattern.sub(\"_\", my_string)\n",
        "print(result)"
      ],
      "execution_count":1,
      "outputs":[
        {
          "name":"stdout",
          "text":[
            "Enter a string:  john123\n",
            "john_\n"
          ],
          "output_type":"stream"
        }
      ],
      "metadata":{
        "jupyter":{
          "source_hidden":false,
          "outputs_hidden":false
        },
        "datalore":{
          "type":"CODE",
          "sheet_delimiter":false
        }
      }
    },
    {
      "cell_type":"code",
      "source":[
        "import re\n",
        "my_string = input(\"Enter a string: \")\n",
        "pattern = re.compile(r\"[0-9]\")\n",
        "result = pattern.sub(\"_\", my_string)\n",
        "print(result)"
      ],
      "execution_count":2,
      "outputs":[
        {
          "name":"stdout",
          "text":[
            "Enter a string:  john123\n",
            "john___\n"
          ],
          "output_type":"stream"
        }
      ],
      "metadata":{
        "jupyter":{
          "source_hidden":false,
          "outputs_hidden":false
        },
        "datalore":{
          "type":"CODE",
          "sheet_delimiter":false
        }
      }
    },
    {
      "cell_type":"code",
      "source":[
        "import re\n",
        "my_string = input(\"Enter a string: \")\n",
        "pattern = re.compile(r\"\\d+\")\n",
        "result = pattern.sub(\"$\", my_string)\n",
        "print(result)"
      ],
      "execution_count":3,
      "outputs":[
        {
          "name":"stdout",
          "text":[
            "Enter a string:  2fast2furious\n",
            "$fast$furious\n"
          ],
          "output_type":"stream"
        }
      ],
      "metadata":{
        "jupyter":{
          "source_hidden":false,
          "outputs_hidden":false
        },
        "datalore":{
          "type":"CODE",
          "sheet_delimiter":false
        }
      }
    },
    {
      "cell_type":"code",
      "source":[
        "# Do it yourself\n",
        "# Write a program using RegEx that will replace all the digits in a string with an exclamation sign\n",
        "import re\n",
        "my_string = input(\"Enter a string: \")\n",
        "pattern = re.compile(r\"\\d\")\n",
        "result = pattern.sub(\"!\", my_string)\n",
        "print(result)"
      ],
      "execution_count":4,
      "outputs":[
        {
          "name":"stdout",
          "text":[
            "Enter a string:  123john123\n",
            "!!!john!!!\n"
          ],
          "output_type":"stream"
        }
      ],
      "metadata":{
        "jupyter":{
          "source_hidden":false,
          "outputs_hidden":false
        },
        "datalore":{
          "type":"CODE",
          "sheet_delimiter":false
        }
      }
    },
    {
      "cell_type":"code",
      "source":[
        "# chapter 3\n",
        "# string manipulation using RegEx"
      ],
      "execution_count":0,
      "outputs":[
        
      ],
      "metadata":{
        "jupyter":{
          "source_hidden":false,
          "outputs_hidden":false
        },
        "datalore":{
          "type":"CODE",
          "sheet_delimiter":false
        }
      }
    },
    {
      "cell_type":"code",
      "source":[
        "# Task 1 \n",
        "# Write a program that will replace all the non-digits in a string with a '_' sign\n",
        "import re\n",
        "my_string = input(\"Enter a string: \")\n",
        "pattern = re.compile(r\"\\D\")\n",
        "result = pattern.sub(\"_\", my_string)\n",
        "print(result)"
      ],
      "execution_count":1,
      "outputs":[
        {
          "name":"stdout",
          "text":[
            "Enter a string:  tonystark123\n",
            "_________123\n"
          ],
          "output_type":"stream"
        }
      ],
      "metadata":{
        "jupyter":{
          "source_hidden":false,
          "outputs_hidden":false
        },
        "datalore":{
          "type":"CODE",
          "sheet_delimiter":false
        }
      }
    },
    {
      "cell_type":"code",
      "source":[
        "import re\n",
        "my_string = input(\"Enter a string: \")\n",
        "pattern = re.compile(r\"\\D+\")\n",
        "result = pattern.sub(\"_\", my_string)\n",
        "print(result)"
      ],
      "execution_count":4,
      "outputs":[
        {
          "name":"stdout",
          "text":[
            "Enter a string:  123tony456\n",
            "123_456\n"
          ],
          "output_type":"stream"
        }
      ],
      "metadata":{
        "jupyter":{
          "source_hidden":false,
          "outputs_hidden":false
        },
        "datalore":{
          "type":"CODE",
          "sheet_delimiter":false
        }
      }
    },
    {
      "cell_type":"code",
      "source":[
        "# what if in order to find out all the digits in the input string? \n",
        "# findall\n",
        "import re\n",
        "my_string = input(\"Enter a string: \")\n",
        "result = re.findall(r\"\\d\", my_string)\n",
        "print(result)"
      ],
      "execution_count":5,
      "outputs":[
        {
          "name":"stdout",
          "text":[
            "Enter a string:  bond007\n",
            "['0', '0', '7']\n"
          ],
          "output_type":"stream"
        }
      ],
      "metadata":{
        "jupyter":{
          "source_hidden":false,
          "outputs_hidden":false
        },
        "datalore":{
          "type":"CODE",
          "sheet_delimiter":false
        }
      }
    }
  ],
  "metadata":{
    "datalore":{
      "version":1,
      "computation_mode":"JUPYTER",
      "package_manager":"pip",
      "base_environment":"default",
      "packages":[
        
      ]
    }
  },
  "nbformat":4,
  "nbformat_minor":4
}