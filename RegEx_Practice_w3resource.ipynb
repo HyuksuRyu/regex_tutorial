{
  "nbformat": 4,
  "nbformat_minor": 0,
  "metadata": {
    "colab": {
      "name": "RegEx_Practice_w3resource.ipynb",
      "provenance": [],
      "authorship_tag": "ABX9TyOvZcJImtlYmvOM3EnZF9uH",
      "include_colab_link": true
    },
    "kernelspec": {
      "name": "python3",
      "display_name": "Python 3"
    },
    "language_info": {
      "name": "python"
    }
  },
  "cells": [
    {
      "cell_type": "markdown",
      "metadata": {
        "id": "view-in-github",
        "colab_type": "text"
      },
      "source": [
        "<a href=\"https://colab.research.google.com/github/HyuksuRyu/regex_tutorial/blob/main/RegEx_Practice_w3resource.ipynb\" target=\"_parent\"><img src=\"https://colab.research.google.com/assets/colab-badge.svg\" alt=\"Open In Colab\"/></a>"
      ]
    },
    {
      "cell_type": "markdown",
      "source": [
        "# Python Regular Expression - Exercises, Practice, Solution\n",
        "## https://www.w3resource.com/python-exercises/re/"
      ],
      "metadata": {
        "id": "wzFD8vydVLkl"
      }
    },
    {
      "cell_type": "markdown",
      "source": [
        "1. Write a Python program to check that a string contains only a certain set of characters (in this case a-z, A-Z and 0-9). "
      ],
      "metadata": {
        "id": "1sx-8qAWVJxJ"
      }
    },
    {
      "cell_type": "code",
      "source": [
        "import re\n",
        "text1 = 'abcAEX098'\n",
        "text2 = '*@$ABSC$('\n",
        "re_pat = re.compile(r'^\\w+$')\n",
        "\n",
        "def is_pattern_match(text: str, pattern):\n",
        "  m = re_pat.match(text)\n",
        "  if m:\n",
        "    print(f\"Match: {m.group()}\")\n",
        "  else:\n",
        "    print(f\"No Match: {text}\")\n",
        "\n",
        "\n",
        "is_pattern_match(text1, re_pat)\n",
        "is_pattern_match(text2, re_pat)\n",
        "\n"
      ],
      "metadata": {
        "colab": {
          "base_uri": "https://localhost:8080/"
        },
        "id": "SH5IwHyNVJVS",
        "outputId": "fed09022-6af6-4b5a-e899-170ca32e7f85"
      },
      "execution_count": 4,
      "outputs": [
        {
          "output_type": "stream",
          "name": "stdout",
          "text": [
            "Match: abcAEX098\n",
            "No Match: *@$ABSC$(\n"
          ]
        }
      ]
    }
  ]
}