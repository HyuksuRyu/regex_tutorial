{
  "nbformat": 4,
  "nbformat_minor": 0,
  "metadata": {
    "colab": {
      "name": "RegEx_Practice_w3resource.ipynb",
      "provenance": [],
      "authorship_tag": "ABX9TyPO673dysZRx5A/zMnpXjpz",
      "include_colab_link": true
    },
    "kernelspec": {
      "name": "python3",
      "display_name": "Python 3"
    },
    "language_info": {
      "name": "python"
    }
  },
  "cells": [
    {
      "cell_type": "markdown",
      "metadata": {
        "id": "view-in-github",
        "colab_type": "text"
      },
      "source": [
        "<a href=\"https://colab.research.google.com/github/HyuksuRyu/regex_tutorial/blob/main/RegEx_Practice_w3resource.ipynb\" target=\"_parent\"><img src=\"https://colab.research.google.com/assets/colab-badge.svg\" alt=\"Open In Colab\"/></a>"
      ]
    },
    {
      "cell_type": "markdown",
      "source": [
        "# Python Regular Expression - Exercises, Practice, Solution\n",
        "## https://www.w3resource.com/python-exercises/re/"
      ],
      "metadata": {
        "id": "wzFD8vydVLkl"
      }
    },
    {
      "cell_type": "markdown",
      "source": [
        "1. Write a Python program to check that a string contains only a certain set of characters (in this case a-z, A-Z and 0-9). "
      ],
      "metadata": {
        "id": "1sx-8qAWVJxJ"
      }
    },
    {
      "cell_type": "code",
      "source": [
        "import re\n",
        "text1 = 'abcAEX098'\n",
        "text2 = '*@$ABSC$('\n",
        "re_pat = re.compile(r'^\\w+$')\n",
        "\n",
        "def is_pattern_match(text: str, pattern):\n",
        "  m = re_pat.match(text)\n",
        "  if m:\n",
        "    print(f\"Match: {m.group()}\")\n",
        "  else:\n",
        "    print(f\"No Match: {text}\")\n",
        "\n",
        "\n",
        "is_pattern_match(text1, re_pat)\n",
        "is_pattern_match(text2, re_pat)\n",
        "\n"
      ],
      "metadata": {
        "colab": {
          "base_uri": "https://localhost:8080/"
        },
        "id": "SH5IwHyNVJVS",
        "outputId": "fed09022-6af6-4b5a-e899-170ca32e7f85"
      },
      "execution_count": null,
      "outputs": [
        {
          "output_type": "stream",
          "name": "stdout",
          "text": [
            "Match: abcAEX098\n",
            "No Match: *@$ABSC$(\n"
          ]
        }
      ]
    },
    {
      "cell_type": "markdown",
      "source": [
        "2. Write a Python program that matches a string that has an a followed by zero or more b's.\n"
      ],
      "metadata": {
        "id": "_-nUlQhneRKH"
      }
    },
    {
      "cell_type": "code",
      "source": [
        "import re\n",
        "\n",
        "pattern = '^a(b*)$'\n",
        "def is_pattern_match(text: str, pattern: str) -> bool:\n",
        "  re_pat = re.compile(pattern)\n",
        "\n",
        "  m = re_pat.match(text)\n",
        "\n",
        "  if m:\n",
        "    print(f\"Match: {m.group()}\")\n",
        "    return True\n",
        "  else:\n",
        "    print(f\"No Match: {text}\")\n",
        "    return False\n",
        "\n",
        "is_pattern_match(\"ac\", pattern)\n",
        "is_pattern_match(\"ab\", pattern)\n",
        "is_pattern_match(\"abc\", pattern)\n",
        "is_pattern_match(\"a\", pattern)\n",
        "is_pattern_match(\"abb\", pattern)\n",
        "is_pattern_match(\"acb\", pattern)\n",
        "\n",
        "\n"
      ],
      "metadata": {
        "colab": {
          "base_uri": "https://localhost:8080/"
        },
        "id": "3Pm25fFeeUgP",
        "outputId": "c99a4a44-db0d-4251-f0d4-0bb95fd5efa6"
      },
      "execution_count": null,
      "outputs": [
        {
          "output_type": "stream",
          "name": "stdout",
          "text": [
            "No Match: ac\n",
            "Match: ab\n",
            "No Match: abc\n",
            "Match: a\n",
            "Match: abb\n",
            "No Match: acb\n"
          ]
        },
        {
          "output_type": "execute_result",
          "data": {
            "text/plain": [
              "False"
            ]
          },
          "metadata": {},
          "execution_count": 2
        }
      ]
    },
    {
      "cell_type": "markdown",
      "source": [
        "3. Write a Python program that matches a string that has an a followed by one or more b's."
      ],
      "metadata": {
        "id": "TRrihljkfSIS"
      }
    },
    {
      "cell_type": "code",
      "source": [
        "import re\n",
        "\n",
        "pattern = '^ab+'\n",
        "def is_pattern_match(text: str, pattern: str) -> bool:\n",
        "  re_pat = re.compile(pattern)\n",
        "\n",
        "  m = re_pat.match(text)\n",
        "\n",
        "  if m:\n",
        "    print(f\"Match: {text}\")\n",
        "    return True\n",
        "  else:\n",
        "    print(f\"No Match: {text}\")\n",
        "    return False\n",
        "\n",
        "is_pattern_match(\"ac\", pattern)\n",
        "is_pattern_match(\"ab\", pattern)\n",
        "is_pattern_match(\"abc\", pattern)\n",
        "is_pattern_match(\"a\", pattern)\n",
        "is_pattern_match(\"abb\", pattern)\n",
        "is_pattern_match(\"acb\", pattern)\n",
        "\n"
      ],
      "metadata": {
        "colab": {
          "base_uri": "https://localhost:8080/"
        },
        "id": "QLQFYHYgfTD5",
        "outputId": "246fa32c-493f-4fcc-efe9-3a1d8a1a5bfc"
      },
      "execution_count": null,
      "outputs": [
        {
          "output_type": "stream",
          "name": "stdout",
          "text": [
            "No Match: ac\n",
            "Match: ab\n",
            "Match: abc\n",
            "No Match: a\n",
            "Match: abb\n",
            "No Match: acb\n"
          ]
        },
        {
          "output_type": "execute_result",
          "data": {
            "text/plain": [
              "False"
            ]
          },
          "metadata": {},
          "execution_count": 8
        }
      ]
    },
    {
      "cell_type": "markdown",
      "source": [
        "4. Write a Python program that matches a string that has an a followed by zero or one 'b'. "
      ],
      "metadata": {
        "id": "EJCQKr4XrygF"
      }
    },
    {
      "cell_type": "code",
      "source": [
        "import re\n",
        "pattern = 'a[b]?'"
      ],
      "metadata": {
        "id": "Dnt1UHShr1xd"
      },
      "execution_count": null,
      "outputs": []
    },
    {
      "cell_type": "markdown",
      "source": [
        "5. Write a Python program that matches a string that has an a followed by three 'b'."
      ],
      "metadata": {
        "id": "63xIoeM4ubor"
      }
    },
    {
      "cell_type": "code",
      "source": [
        "pattern = 'ab{3}'"
      ],
      "metadata": {
        "id": "GNoJiROgueOL"
      },
      "execution_count": null,
      "outputs": []
    },
    {
      "cell_type": "markdown",
      "source": [
        "6. Write a Python program that matches a string that has an a followed by two to three 'b'."
      ],
      "metadata": {
        "id": "uVwRNarJuek6"
      }
    },
    {
      "cell_type": "code",
      "source": [
        "pattern = 'ab{2,3}'"
      ],
      "metadata": {
        "id": "GSugdDbCugoy"
      },
      "execution_count": null,
      "outputs": []
    },
    {
      "cell_type": "markdown",
      "source": [
        "7. Write a Python program to find sequences of lowercase letters joined with a underscore."
      ],
      "metadata": {
        "id": "DAxyKc8xug7V"
      }
    },
    {
      "cell_type": "code",
      "source": [
        "pattern = '[a-z]_[a-z]＋'"
      ],
      "metadata": {
        "id": "nNWNZgRVukHG"
      },
      "execution_count": null,
      "outputs": []
    },
    {
      "cell_type": "markdown",
      "source": [
        "8. Write a Python program to find the sequences of one upper case letter followed by lower case letters."
      ],
      "metadata": {
        "id": "3f_oZGD8ukiT"
      }
    },
    {
      "cell_type": "code",
      "source": [
        "pattern = '[A-Z][a-z]+'"
      ],
      "metadata": {
        "id": "5ZwZBtmWulQf"
      },
      "execution_count": null,
      "outputs": []
    },
    {
      "cell_type": "markdown",
      "source": [
        "9. Write a Python program that matches a string that has an 'a' followed by anything, ending in 'b'."
      ],
      "metadata": {
        "id": "GJ5PSwfuulqK"
      }
    },
    {
      "cell_type": "code",
      "source": [
        ""
      ],
      "metadata": {
        "id": "EvBjyGpKun9o"
      },
      "execution_count": null,
      "outputs": []
    },
    {
      "cell_type": "markdown",
      "source": [
        "10. Write a Python program that matches a word at the beginning of a string."
      ],
      "metadata": {
        "id": "MNxZ3VjkuoRG"
      }
    },
    {
      "cell_type": "code",
      "source": [
        ""
      ],
      "metadata": {
        "id": "Cip_kWoRur9G"
      },
      "execution_count": null,
      "outputs": []
    },
    {
      "cell_type": "markdown",
      "source": [
        "11. Write a Python program that matches a word at the end of string, with optional punctuation."
      ],
      "metadata": {
        "id": "j_0U5vD1usTQ"
      }
    },
    {
      "cell_type": "code",
      "source": [
        ""
      ],
      "metadata": {
        "id": "ncoMRy4Dx5HI"
      },
      "execution_count": null,
      "outputs": []
    },
    {
      "cell_type": "markdown",
      "source": [
        "16. Write a Python program to remove leading zeros from an IP address. "
      ],
      "metadata": {
        "id": "TQfO61GtxMxa"
      }
    },
    {
      "cell_type": "code",
      "source": [
        "import re\n",
        "re_pat = re.compile(r'((?<=[\\.])|^)[0]+')\n",
        "text1 = '001.25.4.37'\n",
        "text2 = '001.25.04.036'\n",
        "print(re_pat.sub('', text1))\n",
        "print(re_pat.sub('', text2))"
      ],
      "metadata": {
        "colab": {
          "base_uri": "https://localhost:8080/"
        },
        "id": "FdxY_a-ExP2p",
        "outputId": "bf5e537e-658e-4e95-aab8-ce5ae3890813"
      },
      "execution_count": 9,
      "outputs": [
        {
          "output_type": "stream",
          "name": "stdout",
          "text": [
            "1.25.4.37\n",
            "1.25.4.36\n"
          ]
        }
      ]
    },
    {
      "cell_type": "markdown",
      "source": [
        "17. Write a Python program to check for a number at the end of a string."
      ],
      "metadata": {
        "id": "Xyns0oOByY19"
      }
    },
    {
      "cell_type": "code",
      "source": [
        "import re\n",
        "def is_number_end(text: str) -> bool:\n",
        "  re_pat = re.compile(r'\\d$')\n",
        "  if re_pat.search(text):\n",
        "    return True\n",
        "  else:\n",
        "    return False\n",
        "\n",
        "print(is_number_end('asbc893'))\n",
        "print(is_number_end('asbc89a'))"
      ],
      "metadata": {
        "colab": {
          "base_uri": "https://localhost:8080/"
        },
        "id": "867uQLivyZ4W",
        "outputId": "9e0acea9-4de2-4671-8517-73c80c93b2aa"
      },
      "execution_count": 10,
      "outputs": [
        {
          "output_type": "stream",
          "name": "stdout",
          "text": [
            "True\n",
            "False\n"
          ]
        }
      ]
    },
    {
      "cell_type": "markdown",
      "source": [
        "18. Write a Python program to search the numbers (0-9) of length between 1 to 3 in a given string.\n",
        "\n",
        "`\"Exercises number 1, 12, 13, and 345 are important\"`"
      ],
      "metadata": {
        "id": "KD0GIAOIy0vo"
      }
    },
    {
      "cell_type": "code",
      "source": [
        "import re\n",
        "text = \"Exercises number 1, 12, 13, and 345 are important\"\n",
        "re_pat = re.compile(r'(?P<numbers>\\d{1,3})')\n",
        "\n",
        "re_pat.findall(text)\n",
        "\n"
      ],
      "metadata": {
        "colab": {
          "base_uri": "https://localhost:8080/"
        },
        "id": "-MPXjoIEy2Eu",
        "outputId": "5688e7e2-5066-428e-d507-869de6f8fcf8"
      },
      "execution_count": 14,
      "outputs": [
        {
          "output_type": "execute_result",
          "data": {
            "text/plain": [
              "['1', '12', '13', '345']"
            ]
          },
          "metadata": {},
          "execution_count": 14
        }
      ]
    },
    {
      "cell_type": "markdown",
      "source": [
        "19. Write a Python program to search some literals strings in a string. \n",
        "\n",
        "```\n",
        "Sample text : 'The quick brown fox jumps over the lazy dog.'\n",
        "Searched words : 'fox', 'dog', 'horse'\n",
        "\n",
        "```"
      ],
      "metadata": {
        "id": "M_6CzufPz1bM"
      }
    },
    {
      "cell_type": "code",
      "source": [
        "import re\n",
        "text = 'The quick brown fox jumps over the lazy dog.'\n",
        "\n",
        "re_pat = re.compile(r'(fox|dog|horse)')\n",
        "\n",
        "print(re_pat.findall(text))\n",
        "\n",
        "for t in re_pat.finditer(text):\n",
        "  print(t.group())\n",
        "\n",
        "\n",
        "\n",
        "\n",
        "\n"
      ],
      "metadata": {
        "colab": {
          "base_uri": "https://localhost:8080/"
        },
        "id": "K-gtNdLwz6DJ",
        "outputId": "4cce77e3-3a00-417e-9cb3-809b40493e6a"
      },
      "execution_count": 21,
      "outputs": [
        {
          "output_type": "stream",
          "name": "stdout",
          "text": [
            "['fox', 'dog']\n",
            "fox\n",
            "dog\n"
          ]
        }
      ]
    },
    {
      "cell_type": "markdown",
      "source": [
        "20. Write a Python program to search a literals string in a string and also find the location within the original string where the pattern occurs.\n",
        "\n",
        "```\n",
        "Sample text : 'The quick brown fox jumps over the lazy dog.'\n",
        "Searched words : 'fox'\n",
        "```"
      ],
      "metadata": {
        "id": "GytZLi5Q0g6K"
      }
    },
    {
      "cell_type": "code",
      "source": [
        "import re\n",
        "\n",
        "re_pat = re.compile(r'(fox)')\n",
        "text = 'The quick brown fox jumps over the lazy dog.'\n",
        "\n",
        "m = re_pat.search(text)\n",
        "if m:\n",
        "  print(m.group())\n",
        "  print(m.start())\n",
        "  print(m.end())\n",
        "  print(m.groups())\n",
        "  print(m.string)\n"
      ],
      "metadata": {
        "colab": {
          "base_uri": "https://localhost:8080/"
        },
        "id": "O0TnFW910opv",
        "outputId": "329c2a2d-544c-44cd-f965-2245927bc991"
      },
      "execution_count": 19,
      "outputs": [
        {
          "output_type": "stream",
          "name": "stdout",
          "text": [
            "fox\n",
            "16\n",
            "19\n",
            "('fox',)\n",
            "The quick brown fox jumps over the lazy dog.\n"
          ]
        }
      ]
    },
    {
      "cell_type": "markdown",
      "source": [
        "21. Write a Python program to find the substrings within a string. \n",
        "\n",
        "```\n",
        "Sample text : 'Python exercises, PHP exercises, C# exercises'\n",
        "\n",
        "Pattern : 'exercises'\n",
        "```\n",
        "\n",
        "Note: There are two instances of exercises in the input string."
      ],
      "metadata": {
        "id": "fisi5G061RFG"
      }
    },
    {
      "cell_type": "code",
      "source": [
        "import re\n",
        "re_pat = re.compile(r'(exercises)')\n",
        "text = 'Python exercises, PHP exercises, C# exercises'\n",
        "\n",
        "for m in re_pat.finditer(text):\n",
        "  print(f\"{m.start()} - {m.group()} - {m.end()}\")\n"
      ],
      "metadata": {
        "colab": {
          "base_uri": "https://localhost:8080/"
        },
        "id": "sDhU3uGU1YJm",
        "outputId": "602d0c55-d555-4386-bc62-20f3ba9ecc1c"
      },
      "execution_count": 22,
      "outputs": [
        {
          "output_type": "stream",
          "name": "stdout",
          "text": [
            "7 - exercises - 16\n",
            "22 - exercises - 31\n",
            "36 - exercises - 45\n"
          ]
        }
      ]
    },
    {
      "cell_type": "markdown",
      "source": [
        "23. Write a Python program to replace whitespaces with an underscore and vice versa."
      ],
      "metadata": {
        "id": "WorlKnNH17re"
      }
    },
    {
      "cell_type": "code",
      "source": [
        "import re\n",
        "\n",
        "re_space = re.compile(r'\\s+')\n",
        "re_under = re.compile(r'_+')\n",
        "\n",
        "# space to underscore\n",
        "text = 'write a Python program to replace whitespaces   with   an underscore and  vise   versa'\n",
        "new_text = re_space.sub('_', text)\n",
        "print(new_text)\n",
        "\n",
        "result = re_under.sub(' ', new_text)\n",
        "print(result)"
      ],
      "metadata": {
        "colab": {
          "base_uri": "https://localhost:8080/"
        },
        "id": "hUwHDuI-18yg",
        "outputId": "0313574b-3658-4af9-eb77-82cdfe6229d7"
      },
      "execution_count": 23,
      "outputs": [
        {
          "output_type": "stream",
          "name": "stdout",
          "text": [
            "write_a_Python_program_to_replace_whitespaces_with_an_underscore_and_vise_versa\n",
            "write a Python program to replace whitespaces with an underscore and vise versa\n"
          ]
        }
      ]
    },
    {
      "cell_type": "markdown",
      "source": [
        "25. Write a Python program to convert a date of `yyyy-mm-dd` format to `dd-mm-yyyy` format."
      ],
      "metadata": {
        "id": "hVKaSQp42fcQ"
      }
    },
    {
      "cell_type": "code",
      "source": [
        "import re\n",
        "\n",
        "date = '1983-01-14'\n",
        "\n",
        "re_pat = re.compile(r'(?P<year>\\d{4})-(?P<month>\\d{2})-(?P<day>\\d{2})')\n",
        "\n",
        "m = re_pat.match(date)\n",
        "print(re_pat.sub('\\g<day>-\\g<month>-\\g<year>', date))\n",
        "#if m:\n",
        "#  print(f\"{m.group('day')}-{m.group('month')}-{m.group('year')}\")"
      ],
      "metadata": {
        "colab": {
          "base_uri": "https://localhost:8080/"
        },
        "id": "_bam7ScA2jMa",
        "outputId": "7afbf20a-1284-4fb2-bae2-1edc76fed9a6"
      },
      "execution_count": 38,
      "outputs": [
        {
          "output_type": "stream",
          "name": "stdout",
          "text": [
            "14-01-1983\n"
          ]
        }
      ]
    },
    {
      "cell_type": "markdown",
      "source": [
        "34. Write a Python program to find all three, four, five characters long words in a string. "
      ],
      "metadata": {
        "id": "NteBgC4P-4R5"
      }
    },
    {
      "cell_type": "code",
      "source": [
        "import re\n",
        "\n",
        "re_pat = re.compile(r'\\b(\\w{3,5})\\b')\n",
        "re_pat2 = re.compile(r'(\\b\\w{3,5}\\b)')\n",
        "text = 'The quick brown fox jumps over the lazy dog.'\n",
        "\n",
        "print(re_pat.findall(text))\n",
        "print(re_pat2.findall(text))"
      ],
      "metadata": {
        "colab": {
          "base_uri": "https://localhost:8080/"
        },
        "id": "Pj2dsNps-5Ju",
        "outputId": "afd422b4-fb76-4de5-d5b2-66431d233fe2"
      },
      "execution_count": 32,
      "outputs": [
        {
          "output_type": "stream",
          "name": "stdout",
          "text": [
            "['The', 'quick', 'brown', 'fox', 'jumps', 'over', 'the', 'lazy', 'dog']\n",
            "['The', 'quick', 'brown', 'fox', 'jumps', 'over', 'the', 'lazy', 'dog']\n"
          ]
        }
      ]
    },
    {
      "cell_type": "markdown",
      "source": [
        "36. Write a python program to convert camel case string to snake case string. "
      ],
      "metadata": {
        "id": "LFyJnzl6_lvQ"
      }
    },
    {
      "cell_type": "code",
      "source": [
        "import re\n",
        "re_camal = re.compile(r'(?<=[a-z])(?P<camal>[A-Z])(?=[a-z])')\n",
        "text = 'PythonExercises'\n",
        "text2 = 'PythonExercisesSeveralTimes'\n",
        "\n",
        "m = re_camal.search(text)\n",
        "if m:\n",
        "  print(m.group('camal'))\n",
        "\n",
        "print(re_camal.sub('_\\g<camal>', text).lower())\n",
        "print(re_camal.sub('_\\g<camal>', text2).lower())\n",
        "\n",
        "\n"
      ],
      "metadata": {
        "colab": {
          "base_uri": "https://localhost:8080/"
        },
        "id": "kBCxGldu_m0d",
        "outputId": "277fca15-9a7e-4cf3-dadb-c735c6e7b38e"
      },
      "execution_count": 42,
      "outputs": [
        {
          "output_type": "stream",
          "name": "stdout",
          "text": [
            "E\n",
            "python_exercises\n",
            "python_exercises_several_times\n"
          ]
        }
      ]
    },
    {
      "cell_type": "markdown",
      "source": [
        "37. Write a python program to convert snake case string to camel case string."
      ],
      "metadata": {
        "id": "BBSFlGHOBhxt"
      }
    },
    {
      "cell_type": "code",
      "source": [
        "import re\n",
        "re_snake = re.compile('_')\n",
        "\n",
        "text = 'python_excercise'\n",
        "\n",
        "snake_list = re_snake.split(text)\n",
        "print(snake_list)\n",
        "new = ''.join(x.capitalize() for x in snake_list)\n",
        "print(new)\n",
        "\n",
        "\n"
      ],
      "metadata": {
        "colab": {
          "base_uri": "https://localhost:8080/"
        },
        "id": "b6btNeCmBi5T",
        "outputId": "d91f00ed-2ab8-4ccf-fedc-97c052cc256e"
      },
      "execution_count": 44,
      "outputs": [
        {
          "output_type": "stream",
          "name": "stdout",
          "text": [
            "['python', 'excercise']\n",
            "PythonExcercise\n"
          ]
        }
      ]
    },
    {
      "cell_type": "markdown",
      "source": [
        "\n",
        "43. Write a Python program to split a string at uppercase letters."
      ],
      "metadata": {
        "id": "HXyosvfVC73U"
      }
    },
    {
      "cell_type": "code",
      "source": [
        "import re\n",
        "text = \"PythonTutorialAndExercises\"\n",
        "re_pat = re.compile(r'[A-Z][^A-Z]+')\n",
        "print(re_pat.findall(text))"
      ],
      "metadata": {
        "colab": {
          "base_uri": "https://localhost:8080/"
        },
        "id": "Tp9vb9fvC8-v",
        "outputId": "7a9402d0-4823-4b18-aa43-132ba52e5fd4"
      },
      "execution_count": 45,
      "outputs": [
        {
          "output_type": "stream",
          "name": "stdout",
          "text": [
            "['Python', 'Tutorial', 'And', 'Exercises']\n"
          ]
        }
      ]
    },
    {
      "cell_type": "markdown",
      "source": [
        "54. Write a Python program to concatenate the consecutive numbers in a given string. \n",
        "\n",
        "- Original string:\n",
        "```\n",
        "Enter at 1 20 Kearny Street. The security desk can direct you to floor 1 6. Please have your identification ready.\n",
        "```\n",
        "\n",
        "- After concatenating the consecutive numbers in the said string:\n",
        "```\n",
        "Enter at 120 Kearny Street. The security desk can direct you to floor 16. Please have your identification ready.\n",
        "```"
      ],
      "metadata": {
        "id": "VHfM-E3nDpvb"
      }
    },
    {
      "cell_type": "code",
      "source": [
        "import re\n",
        "\n",
        "re_pat = re.compile(r'(\\d+)(\\s+)(\\d+)')\n",
        "\n",
        "text = 'Enter at 1 20 Kearny Street. The security desk can direct you to floor 1 6. Please have your identification ready.'\n",
        "print(re_pat.sub('\\g<1>\\g<3>', text))\n",
        "\n"
      ],
      "metadata": {
        "colab": {
          "base_uri": "https://localhost:8080/"
        },
        "id": "tF9nsznaD2ll",
        "outputId": "351ebf21-7504-4eb5-efe8-709f61427e95"
      },
      "execution_count": 48,
      "outputs": [
        {
          "output_type": "stream",
          "name": "stdout",
          "text": [
            "Enter at 120 Kearny Street. The security desk can direct you to floor 16. Please have your identification ready.\n"
          ]
        }
      ]
    },
    {
      "cell_type": "markdown",
      "source": [
        "51. Write a Python program to insert spaces between words starting with capital letters."
      ],
      "metadata": {
        "id": "loSKBlrnEglA"
      }
    },
    {
      "cell_type": "code",
      "source": [
        "import re\n",
        "re_pat = re.compile(r'(?<=.)([A-Z])')\n",
        "text = \"PythonExercisesPracticeSolution\"\n",
        "\n",
        "print(re_pat.sub(' \\g<1>', text))"
      ],
      "metadata": {
        "colab": {
          "base_uri": "https://localhost:8080/"
        },
        "id": "gO3X5aeAEhie",
        "outputId": "908d83f9-4e8c-40c1-a9f5-775b61a94103"
      },
      "execution_count": 51,
      "outputs": [
        {
          "output_type": "stream",
          "name": "stdout",
          "text": [
            "Python Exercises Practice Solution\n"
          ]
        }
      ]
    },
    {
      "cell_type": "markdown",
      "source": [
        "50. Write a Python program to remove the parenthesis area in a string. \n",
        "\n",
        "```\n",
        "Sample data : [\"example (.com)\", \"w3resource\", \"github (.com)\", \"stackoverflow (.com)\"]\n",
        "```\n",
        "```\n",
        "Expected Output: \n",
        "example\n",
        "w3resource\n",
        "github\n",
        "stackoverflow\n",
        "```"
      ],
      "metadata": {
        "id": "gzh7UuptFM34"
      }
    },
    {
      "cell_type": "code",
      "source": [
        "import re\n",
        "sample_list = [\"example (.com)\", \"w3resource\", \"github (.com)\", \"stackoverflow (.com)\"]\n",
        "re_pat = re.compile(r'\\s+\\(.+\\)')\n",
        "for sample in sample_list:\n",
        "  print(re_pat.sub('', sample))"
      ],
      "metadata": {
        "colab": {
          "base_uri": "https://localhost:8080/"
        },
        "id": "LhMpj7LTFUR1",
        "outputId": "e5afffc1-3cf3-40e5-84cf-771379b7f98f"
      },
      "execution_count": 52,
      "outputs": [
        {
          "output_type": "stream",
          "name": "stdout",
          "text": [
            "example\n",
            "w3resource\n",
            "github\n",
            "stackoverflow\n"
          ]
        }
      ]
    },
    {
      "cell_type": "markdown",
      "source": [
        "49. Write a Python program to remove words from a string of length between 1 and a given number. \n"
      ],
      "metadata": {
        "id": "UYLcEnmkFxra"
      }
    },
    {
      "cell_type": "code",
      "source": [
        "import re\n",
        "text = \"The quick brown fox jumps over the lazy dog.\"\n",
        "given = 3\n",
        "re_pat = re.compile(r\"\\s*\\b\\w{1,3}\\b\\s*\")\n",
        "print(re_pat.sub(' ', text))\n"
      ],
      "metadata": {
        "colab": {
          "base_uri": "https://localhost:8080/"
        },
        "id": "5oTQTk97F3yh",
        "outputId": "8807b1fd-87f0-44d7-b6e1-1e3b5f2f9c1c"
      },
      "execution_count": 59,
      "outputs": [
        {
          "output_type": "stream",
          "name": "stdout",
          "text": [
            " quick brown jumps over lazy .\n"
          ]
        }
      ]
    }
  ]
}