{
  "nbformat": 4,
  "nbformat_minor": 0,
  "metadata": {
    "colab": {
      "name": "RegEx_Practice_w3resource.ipynb",
      "provenance": [],
      "authorship_tag": "ABX9TyPta5POumMNUQudJdW4k50+",
      "include_colab_link": true
    },
    "kernelspec": {
      "name": "python3",
      "display_name": "Python 3"
    },
    "language_info": {
      "name": "python"
    }
  },
  "cells": [
    {
      "cell_type": "markdown",
      "metadata": {
        "id": "view-in-github",
        "colab_type": "text"
      },
      "source": [
        "<a href=\"https://colab.research.google.com/github/HyuksuRyu/regex_tutorial/blob/main/RegEx_Practice_w3resource.ipynb\" target=\"_parent\"><img src=\"https://colab.research.google.com/assets/colab-badge.svg\" alt=\"Open In Colab\"/></a>"
      ]
    },
    {
      "cell_type": "markdown",
      "source": [
        "# Python Regular Expression - Exercises, Practice, Solution\n",
        "## https://www.w3resource.com/python-exercises/re/"
      ],
      "metadata": {
        "id": "wzFD8vydVLkl"
      }
    },
    {
      "cell_type": "markdown",
      "source": [
        "1. Write a Python program to check that a string contains only a certain set of characters (in this case a-z, A-Z and 0-9). "
      ],
      "metadata": {
        "id": "1sx-8qAWVJxJ"
      }
    },
    {
      "cell_type": "code",
      "source": [
        "import re\n",
        "text1 = 'abcAEX098'\n",
        "text2 = '*@$ABSC$('\n",
        "re_pat = re.compile(r'^\\w+$')\n",
        "\n",
        "def is_pattern_match(text: str, pattern):\n",
        "  m = re_pat.match(text)\n",
        "  if m:\n",
        "    print(f\"Match: {m.group()}\")\n",
        "  else:\n",
        "    print(f\"No Match: {text}\")\n",
        "\n",
        "\n",
        "is_pattern_match(text1, re_pat)\n",
        "is_pattern_match(text2, re_pat)\n",
        "\n"
      ],
      "metadata": {
        "colab": {
          "base_uri": "https://localhost:8080/"
        },
        "id": "SH5IwHyNVJVS",
        "outputId": "fed09022-6af6-4b5a-e899-170ca32e7f85"
      },
      "execution_count": null,
      "outputs": [
        {
          "output_type": "stream",
          "name": "stdout",
          "text": [
            "Match: abcAEX098\n",
            "No Match: *@$ABSC$(\n"
          ]
        }
      ]
    },
    {
      "cell_type": "markdown",
      "source": [
        "2. Write a Python program that matches a string that has an a followed by zero or more b's.\n"
      ],
      "metadata": {
        "id": "_-nUlQhneRKH"
      }
    },
    {
      "cell_type": "code",
      "source": [
        "import re\n",
        "\n",
        "pattern = '^a(b*)$'\n",
        "def is_pattern_match(text: str, pattern: str) -> bool:\n",
        "  re_pat = re.compile(pattern)\n",
        "\n",
        "  m = re_pat.match(text)\n",
        "\n",
        "  if m:\n",
        "    print(f\"Match: {m.group()}\")\n",
        "    return True\n",
        "  else:\n",
        "    print(f\"No Match: {text}\")\n",
        "    return False\n",
        "\n",
        "is_pattern_match(\"ac\", pattern)\n",
        "is_pattern_match(\"ab\", pattern)\n",
        "is_pattern_match(\"abc\", pattern)\n",
        "is_pattern_match(\"a\", pattern)\n",
        "is_pattern_match(\"abb\", pattern)\n",
        "is_pattern_match(\"acb\", pattern)\n",
        "\n",
        "\n"
      ],
      "metadata": {
        "colab": {
          "base_uri": "https://localhost:8080/"
        },
        "id": "3Pm25fFeeUgP",
        "outputId": "c99a4a44-db0d-4251-f0d4-0bb95fd5efa6"
      },
      "execution_count": 2,
      "outputs": [
        {
          "output_type": "stream",
          "name": "stdout",
          "text": [
            "No Match: ac\n",
            "Match: ab\n",
            "No Match: abc\n",
            "Match: a\n",
            "Match: abb\n",
            "No Match: acb\n"
          ]
        },
        {
          "output_type": "execute_result",
          "data": {
            "text/plain": [
              "False"
            ]
          },
          "metadata": {},
          "execution_count": 2
        }
      ]
    },
    {
      "cell_type": "markdown",
      "source": [
        "3. Write a Python program that matches a string that has an a followed by one or more b's."
      ],
      "metadata": {
        "id": "TRrihljkfSIS"
      }
    },
    {
      "cell_type": "code",
      "source": [
        "import re\n",
        "\n",
        "pattern = '^ab+'\n",
        "def is_pattern_match(text: str, pattern: str) -> bool:\n",
        "  re_pat = re.compile(pattern)\n",
        "\n",
        "  m = re_pat.match(text)\n",
        "\n",
        "  if m:\n",
        "    print(f\"Match: {text}\")\n",
        "    return True\n",
        "  else:\n",
        "    print(f\"No Match: {text}\")\n",
        "    return False\n",
        "\n",
        "is_pattern_match(\"ac\", pattern)\n",
        "is_pattern_match(\"ab\", pattern)\n",
        "is_pattern_match(\"abc\", pattern)\n",
        "is_pattern_match(\"a\", pattern)\n",
        "is_pattern_match(\"abb\", pattern)\n",
        "is_pattern_match(\"acb\", pattern)\n",
        "\n"
      ],
      "metadata": {
        "colab": {
          "base_uri": "https://localhost:8080/"
        },
        "id": "QLQFYHYgfTD5",
        "outputId": "246fa32c-493f-4fcc-efe9-3a1d8a1a5bfc"
      },
      "execution_count": 8,
      "outputs": [
        {
          "output_type": "stream",
          "name": "stdout",
          "text": [
            "No Match: ac\n",
            "Match: ab\n",
            "Match: abc\n",
            "No Match: a\n",
            "Match: abb\n",
            "No Match: acb\n"
          ]
        },
        {
          "output_type": "execute_result",
          "data": {
            "text/plain": [
              "False"
            ]
          },
          "metadata": {},
          "execution_count": 8
        }
      ]
    }
  ]
}