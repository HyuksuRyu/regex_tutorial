{
  "nbformat": 4,
  "nbformat_minor": 0,
  "metadata": {
    "colab": {
      "name": "Learning Regular Expressions.ipynb",
      "provenance": [],
      "collapsed_sections": [],
      "authorship_tag": "ABX9TyNjdsAodVSKZVpHJJvtXdNe",
      "include_colab_link": true
    },
    "kernelspec": {
      "name": "python3",
      "display_name": "Python 3"
    },
    "language_info": {
      "name": "python"
    }
  },
  "cells": [
    {
      "cell_type": "markdown",
      "metadata": {
        "id": "view-in-github",
        "colab_type": "text"
      },
      "source": [
        "<a href=\"https://colab.research.google.com/github/HyuksuRyu/regex_tutorial/blob/main/Learning_Regular_Expressions.ipynb\" target=\"_parent\"><img src=\"https://colab.research.google.com/assets/colab-badge.svg\" alt=\"Open In Colab\"/></a>"
      ]
    },
    {
      "cell_type": "code",
      "execution_count": null,
      "metadata": {
        "colab": {
          "base_uri": "https://localhost:8080/"
        },
        "id": "a-_rjr9OYsYo",
        "outputId": "f71185e9-37a3-413c-b1d2-ef31eb0f6dea"
      },
      "outputs": [
        {
          "output_type": "stream",
          "name": "stdout",
          "text": [
            "['sales1', 'sales2']\n",
            "['na1.', 'na2.', 'sa1.', 'ja4.']\n"
          ]
        }
      ],
      "source": [
        "# chapter 2\n",
        "# 문자 하나 찾기\n",
        "\n",
        "import re\n",
        "text = \"\"\"\n",
        "sales1.xls\n",
        "order3.xls\n",
        "sales2.xls\n",
        "na1.xls\n",
        "na2.xls\n",
        "sa1.xls\n",
        "ja4.doc\n",
        "\"\"\"\n",
        "\n",
        "re_pat = re.compile(r'sales.')\n",
        "\n",
        "print(re_pat.findall(text))\n",
        "\n",
        "re_pat1 = re.compile(r'.a.\\.')\n",
        "print(re_pat1.findall(text))\n",
        "\n"
      ]
    },
    {
      "cell_type": "code",
      "source": [
        "re_pat2 = re.compile(r'.a.\\.xls')\n",
        "print(re_pat2.findall(text))"
      ],
      "metadata": {
        "colab": {
          "base_uri": "https://localhost:8080/"
        },
        "id": "kRrgWgq-bEc5",
        "outputId": "f09e8796-168d-4f95-e5e6-e807d0289cef"
      },
      "execution_count": null,
      "outputs": [
        {
          "output_type": "stream",
          "name": "stdout",
          "text": [
            "['na1.xls', 'na2.xls', 'sa1.xls']\n"
          ]
        }
      ]
    },
    {
      "cell_type": "code",
      "source": [
        "# chapter 3\n",
        "# 미국/캐나다 우편번호 데이터베이스\n",
        "import re\n",
        "\n",
        "post_number = \"\"\"\n",
        "11213\n",
        "A1C2E3\n",
        "48075\n",
        "48345\n",
        "M1B3F2\n",
        "90046\n",
        "H1H2H3\n",
        "\"\"\"\n",
        "\n",
        "re_pat_us = re.compile(\"\\w\\d\\w\\d\\w\\d\")\n",
        "print(re_pat_us.findall(post_number))\n",
        "\n",
        "re_pat_ca = re.compile(\"\\d{5}\")\n",
        "print(re_pat_ca.findall(post_number))"
      ],
      "metadata": {
        "id": "Ga98ccxibEyx",
        "outputId": "495e1341-b967-47be-b16b-f42b29365d6b",
        "colab": {
          "base_uri": "https://localhost:8080/"
        }
      },
      "execution_count": 5,
      "outputs": [
        {
          "output_type": "stream",
          "name": "stdout",
          "text": [
            "['A1C2E3', 'M1B3F2', 'H1H2H3']\n",
            "['11213', '48075', '48345', '90046']\n"
          ]
        }
      ]
    },
    {
      "cell_type": "code",
      "source": [
        "import re\n",
        "text = \"\"\"\n",
        "Send personal email to ben@forta.com or \n",
        "ben.forta@forta.com. For questions about a book use\n",
        "support@forta.com. If your message is\n",
        "urgent try ben@urgent.forta.com.\n",
        "Feel free to send unsolicited email to \n",
        "spam@forta.com (simple)\n",
        "\"\"\"\n",
        "\n",
        "re_pat = re.compile(r'[\\w.]+@[\\w.]+\\.\\w+')\n",
        "print(re_pat.findall(text))\n",
        "re_pat2 = re.compile(r'[\\w\\.]+@[\\w\\.]+\\.\\w+')\n",
        "print(re_pat2.findall(text))"
      ],
      "metadata": {
        "id": "C7yBXV5VbFvI",
        "outputId": "2064d8a2-befb-4d5e-8198-843f86fbb914",
        "colab": {
          "base_uri": "https://localhost:8080/"
        }
      },
      "execution_count": 10,
      "outputs": [
        {
          "output_type": "stream",
          "name": "stdout",
          "text": [
            "['ben@forta.com', 'ben.forta@forta.com', 'support@forta.com', 'ben@urgent.forta.com', 'spam@forta.com']\n",
            "['ben@forta.com', 'ben.forta@forta.com', 'support@forta.com', 'ben@urgent.forta.com', 'spam@forta.com']\n"
          ]
        }
      ]
    },
    {
      "cell_type": "code",
      "source": [
        "# get url\n",
        "import re\n",
        "text = \"\"\"\n",
        "The URL is http://www.forta.com, to connect\n",
        "securely us https://www.forta.com/ instead\n",
        "\"\"\"\n",
        "\n",
        "re_pat = re.compile(r\"https?:\\/\\/[\\w.\\/]+\")\n",
        "print(re_pat.findall(text))"
      ],
      "metadata": {
        "id": "6tVaAHUgWZrF",
        "outputId": "f6bcefba-56b1-4c26-9f62-0127b40ce679",
        "colab": {
          "base_uri": "https://localhost:8080/"
        }
      },
      "execution_count": 13,
      "outputs": [
        {
          "output_type": "stream",
          "name": "stdout",
          "text": [
            "['http://www.forta.com', 'https://www.forta.com/']\n"
          ]
        }
      ]
    },
    {
      "cell_type": "code",
      "source": [
        "# 5장 반복찾기\n",
        "# date\n",
        "text = \"\"\"\n",
        "4/8/17\n",
        "10-6-2018\n",
        "2/2/2\n",
        "01-01-01\n",
        "\"\"\"\n",
        "\n",
        "re_date = re.compile(r\"\\d{1,2}[\\/\\-]\\d{1,2}[\\/\\-]\\d{2,4}\")\n",
        "print(re_date.findall(text))"
      ],
      "metadata": {
        "id": "2giLIrCIj5BN",
        "outputId": "ed30bf42-22fa-4377-ce82-bcf91c4f86aa",
        "colab": {
          "base_uri": "https://localhost:8080/"
        }
      },
      "execution_count": 20,
      "outputs": [
        {
          "output_type": "stream",
          "name": "stdout",
          "text": [
            "['4/8/17', '10-6-2018', '01-01-01']\n"
          ]
        }
      ]
    },
    {
      "cell_type": "code",
      "source": [
        "# find minimum period\n",
        "text = \"\"\"\n",
        "1001: $496.80\n",
        "1002: $1290.69\n",
        "1003: $26.43\n",
        "1004: $613.42\n",
        "1005: $7.61\n",
        "1006: $414.90\n",
        "1007: $25.00\n",
        "\"\"\"\n",
        "\n",
        "re_pat = re.compile(r\"\\d+: \\$\\d{3,}\\.\\d{2}\") # find cases over 100 dollars\n",
        "print(re_pat.findall(text))"
      ],
      "metadata": {
        "id": "e3NAecHPlMIz",
        "outputId": "0543ee12-23d4-494f-9755-8609c2670c63",
        "colab": {
          "base_uri": "https://localhost:8080/"
        }
      },
      "execution_count": 21,
      "outputs": [
        {
          "output_type": "stream",
          "name": "stdout",
          "text": [
            "['1001: $496.80', '1002: $1290.69', '1004: $613.42', '1006: $414.90']\n"
          ]
        }
      ]
    },
    {
      "cell_type": "code",
      "source": [
        "# to prevent too much fit\n",
        "text = \"\"\"\n",
        "This offer is not available to customers\n",
        "living in <b>AK</b> and <B>HI</B>.\n",
        "\"\"\"\n",
        "\n",
        "re_pat = re.compile(r'<[Bb]>.*<\\/[Bb]>')\n",
        "print(re_pat.findall(text))   ## ['<b>AK</b> and <B>'] Greedy search\n",
        "\n",
        "## Need to make lazy quantifier, not greed\n",
        "## * -> *?\n",
        "## + -> +?\n",
        "## {n,} -> {n,}?\n",
        "\n",
        "re_pat_lazy = re.compile(r'<[Bb]>.*?<\\/[Bb]>')\n",
        "print(re_pat_lazy.findall(text))  ## ['<b>AK</b>', '<B>HI</B>'] Lazy search \n",
        "\n"
      ],
      "metadata": {
        "id": "SOFtWzYhlvxv",
        "outputId": "cf5e9f21-55b3-4019-d7cf-839cd9bc730c",
        "colab": {
          "base_uri": "https://localhost:8080/"
        }
      },
      "execution_count": 24,
      "outputs": [
        {
          "output_type": "stream",
          "name": "stdout",
          "text": [
            "['<b>AK</b> and <B>HI</B>']\n",
            "['<b>AK</b>', '<B>HI</B>']\n"
          ]
        }
      ]
    }
  ]
}