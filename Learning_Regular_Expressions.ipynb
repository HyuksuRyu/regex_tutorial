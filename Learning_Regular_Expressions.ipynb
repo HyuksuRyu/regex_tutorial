{
  "nbformat": 4,
  "nbformat_minor": 0,
  "metadata": {
    "colab": {
      "name": "Learning Regular Expressions.ipynb",
      "provenance": [],
      "collapsed_sections": [],
      "authorship_tag": "ABX9TyOZwt5t3TUndum8CZvyLlrS",
      "include_colab_link": true
    },
    "kernelspec": {
      "name": "python3",
      "display_name": "Python 3"
    },
    "language_info": {
      "name": "python"
    }
  },
  "cells": [
    {
      "cell_type": "markdown",
      "metadata": {
        "id": "view-in-github",
        "colab_type": "text"
      },
      "source": [
        "<a href=\"https://colab.research.google.com/github/HyuksuRyu/regex_tutorial/blob/main/Learning_Regular_Expressions.ipynb\" target=\"_parent\"><img src=\"https://colab.research.google.com/assets/colab-badge.svg\" alt=\"Open In Colab\"/></a>"
      ]
    },
    {
      "cell_type": "code",
      "execution_count": 5,
      "metadata": {
        "colab": {
          "base_uri": "https://localhost:8080/"
        },
        "id": "a-_rjr9OYsYo",
        "outputId": "f71185e9-37a3-413c-b1d2-ef31eb0f6dea"
      },
      "outputs": [
        {
          "output_type": "stream",
          "name": "stdout",
          "text": [
            "['sales1', 'sales2']\n",
            "['na1.', 'na2.', 'sa1.', 'ja4.']\n"
          ]
        }
      ],
      "source": [
        "# chapter 2\n",
        "# 문자 하나 찾기\n",
        "\n",
        "import re\n",
        "text = \"\"\"\n",
        "sales1.xls\n",
        "order3.xls\n",
        "sales2.xls\n",
        "na1.xls\n",
        "na2.xls\n",
        "sa1.xls\n",
        "ja4.doc\n",
        "\"\"\"\n",
        "\n",
        "re_pat = re.compile(r'sales.')\n",
        "\n",
        "print(re_pat.findall(text))\n",
        "\n",
        "re_pat1 = re.compile(r'.a.\\.')\n",
        "print(re_pat1.findall(text))\n",
        "\n"
      ]
    },
    {
      "cell_type": "code",
      "source": [
        "re_pat2 = re.compile(r'.a.\\.xls')\n",
        "print(re_pat2.findall(text))"
      ],
      "metadata": {
        "colab": {
          "base_uri": "https://localhost:8080/"
        },
        "id": "kRrgWgq-bEc5",
        "outputId": "f09e8796-168d-4f95-e5e6-e807d0289cef"
      },
      "execution_count": 6,
      "outputs": [
        {
          "output_type": "stream",
          "name": "stdout",
          "text": [
            "['na1.xls', 'na2.xls', 'sa1.xls']\n"
          ]
        }
      ]
    },
    {
      "cell_type": "code",
      "source": [
        "# chapter 3\n",
        "# 문자 집합으로 찾기\n"
      ],
      "metadata": {
        "id": "Ga98ccxibEyx"
      },
      "execution_count": null,
      "outputs": []
    },
    {
      "cell_type": "code",
      "source": [
        ""
      ],
      "metadata": {
        "id": "C7yBXV5VbFvI"
      },
      "execution_count": null,
      "outputs": []
    }
  ]
}