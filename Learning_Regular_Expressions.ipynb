{
  "nbformat": 4,
  "nbformat_minor": 0,
  "metadata": {
    "colab": {
      "name": "Learning Regular Expressions.ipynb",
      "provenance": [],
      "collapsed_sections": [],
      "authorship_tag": "ABX9TyPqH48eiFoHLh9iNSbdzNhi",
      "include_colab_link": true
    },
    "kernelspec": {
      "name": "python3",
      "display_name": "Python 3"
    },
    "language_info": {
      "name": "python"
    }
  },
  "cells": [
    {
      "cell_type": "markdown",
      "metadata": {
        "id": "view-in-github",
        "colab_type": "text"
      },
      "source": [
        "<a href=\"https://colab.research.google.com/github/HyuksuRyu/regex_tutorial/blob/main/Learning_Regular_Expressions.ipynb\" target=\"_parent\"><img src=\"https://colab.research.google.com/assets/colab-badge.svg\" alt=\"Open In Colab\"/></a>"
      ]
    },
    {
      "cell_type": "code",
      "execution_count": null,
      "metadata": {
        "colab": {
          "base_uri": "https://localhost:8080/"
        },
        "id": "a-_rjr9OYsYo",
        "outputId": "f71185e9-37a3-413c-b1d2-ef31eb0f6dea"
      },
      "outputs": [
        {
          "output_type": "stream",
          "name": "stdout",
          "text": [
            "['sales1', 'sales2']\n",
            "['na1.', 'na2.', 'sa1.', 'ja4.']\n"
          ]
        }
      ],
      "source": [
        "# chapter 2\n",
        "# 문자 하나 찾기\n",
        "\n",
        "import re\n",
        "text = \"\"\"\n",
        "sales1.xls\n",
        "order3.xls\n",
        "sales2.xls\n",
        "na1.xls\n",
        "na2.xls\n",
        "sa1.xls\n",
        "ja4.doc\n",
        "\"\"\"\n",
        "\n",
        "re_pat = re.compile(r'sales.')\n",
        "\n",
        "print(re_pat.findall(text))\n",
        "\n",
        "re_pat1 = re.compile(r'.a.\\.')\n",
        "print(re_pat1.findall(text))\n",
        "\n"
      ]
    },
    {
      "cell_type": "code",
      "source": [
        "re_pat2 = re.compile(r'.a.\\.xls')\n",
        "print(re_pat2.findall(text))"
      ],
      "metadata": {
        "colab": {
          "base_uri": "https://localhost:8080/"
        },
        "id": "kRrgWgq-bEc5",
        "outputId": "f09e8796-168d-4f95-e5e6-e807d0289cef"
      },
      "execution_count": null,
      "outputs": [
        {
          "output_type": "stream",
          "name": "stdout",
          "text": [
            "['na1.xls', 'na2.xls', 'sa1.xls']\n"
          ]
        }
      ]
    },
    {
      "cell_type": "code",
      "source": [
        "# chapter 3\n",
        "# 미국/캐나다 우편번호 데이터베이스\n",
        "import re\n",
        "\n",
        "post_number = \"\"\"\n",
        "11213\n",
        "A1C2E3\n",
        "48075\n",
        "48345\n",
        "M1B3F2\n",
        "90046\n",
        "H1H2H3\n",
        "\"\"\"\n",
        "\n",
        "re_pat_us = re.compile(\"\\w\\d\\w\\d\\w\\d\")\n",
        "print(re_pat_us.findall(post_number))\n",
        "\n",
        "re_pat_ca = re.compile(\"\\d{5}\")\n",
        "print(re_pat_ca.findall(post_number))"
      ],
      "metadata": {
        "id": "Ga98ccxibEyx",
        "colab": {
          "base_uri": "https://localhost:8080/"
        },
        "outputId": "495e1341-b967-47be-b16b-f42b29365d6b"
      },
      "execution_count": 5,
      "outputs": [
        {
          "output_type": "stream",
          "name": "stdout",
          "text": [
            "['A1C2E3', 'M1B3F2', 'H1H2H3']\n",
            "['11213', '48075', '48345', '90046']\n"
          ]
        }
      ]
    },
    {
      "cell_type": "code",
      "source": [
        "import re\n",
        "text = \"\"\"\n",
        "Send personal email to ben@forta.com or \n",
        "ben.forta@forta.com. For questions about a book use\n",
        "support@forta.com. If your message is\n",
        "urgent try ben@urgent.forta.com.\n",
        "Feel free to send unsolicited email to \n",
        "spam@forta.com (simple)\n",
        "\"\"\"\n",
        "\n",
        "re_pat = re.compile(r'[\\w.]+@[\\w.]+\\.\\w+')\n",
        "print(re_pat.findall(text))\n",
        "re_pat2 = re.compile(r'[\\w\\.]+@[\\w\\.]+\\.\\w+')\n",
        "print(re_pat2.findall(text))"
      ],
      "metadata": {
        "id": "C7yBXV5VbFvI",
        "colab": {
          "base_uri": "https://localhost:8080/"
        },
        "outputId": "2064d8a2-befb-4d5e-8198-843f86fbb914"
      },
      "execution_count": 10,
      "outputs": [
        {
          "output_type": "stream",
          "name": "stdout",
          "text": [
            "['ben@forta.com', 'ben.forta@forta.com', 'support@forta.com', 'ben@urgent.forta.com', 'spam@forta.com']\n",
            "['ben@forta.com', 'ben.forta@forta.com', 'support@forta.com', 'ben@urgent.forta.com', 'spam@forta.com']\n"
          ]
        }
      ]
    },
    {
      "cell_type": "code",
      "source": [
        "# get url\n",
        "import re\n",
        "text = \"\"\"\n",
        "The URL is http://www.forta.com, to connect\n",
        "securely us https://www.forta.com/ instead\n",
        "\"\"\"\n",
        "\n",
        "re_pat = re.compile(r\"https?:\\/\\/[\\w.\\/]+\")\n",
        "print(re_pat.findall(text))"
      ],
      "metadata": {
        "colab": {
          "base_uri": "https://localhost:8080/"
        },
        "id": "6tVaAHUgWZrF",
        "outputId": "f6bcefba-56b1-4c26-9f62-0127b40ce679"
      },
      "execution_count": 13,
      "outputs": [
        {
          "output_type": "stream",
          "name": "stdout",
          "text": [
            "['http://www.forta.com', 'https://www.forta.com/']\n"
          ]
        }
      ]
    },
    {
      "cell_type": "code",
      "source": [
        "# 5장 반복찾기\n",
        "# date\n",
        "text = \"\"\"\n",
        "4/8/17\n",
        "10-6-2018\n",
        "2/2/2\n",
        "01-01-01\n",
        "\"\"\"\n",
        "\n",
        "re_date = re.compile(r\"\\d{1,2}[\\/\\-]\\d{1,2}[\\/\\-]\\d{2,4}\")\n",
        "print(re_date.findall(text))"
      ],
      "metadata": {
        "colab": {
          "base_uri": "https://localhost:8080/"
        },
        "id": "2giLIrCIj5BN",
        "outputId": "ed30bf42-22fa-4377-ce82-bcf91c4f86aa"
      },
      "execution_count": 20,
      "outputs": [
        {
          "output_type": "stream",
          "name": "stdout",
          "text": [
            "['4/8/17', '10-6-2018', '01-01-01']\n"
          ]
        }
      ]
    },
    {
      "cell_type": "code",
      "source": [
        "# find minimum period\n",
        "text = \"\"\"\n",
        "1001: $496.80\n",
        "1002: $1290.69\n",
        "1003: $26.43\n",
        "1004: $613.42\n",
        "1005: $7.61\n",
        "1006: $414.90\n",
        "1007: $25.00\n",
        "\"\"\"\n",
        "\n",
        "re_pat = re.compile(r\"\\d+: \\$\\d{3,}\\.\\d{2}\") # find cases over 100 dollars\n",
        "print(re_pat.findall(text))"
      ],
      "metadata": {
        "colab": {
          "base_uri": "https://localhost:8080/"
        },
        "id": "e3NAecHPlMIz",
        "outputId": "0543ee12-23d4-494f-9755-8609c2670c63"
      },
      "execution_count": 21,
      "outputs": [
        {
          "output_type": "stream",
          "name": "stdout",
          "text": [
            "['1001: $496.80', '1002: $1290.69', '1004: $613.42', '1006: $414.90']\n"
          ]
        }
      ]
    },
    {
      "cell_type": "code",
      "source": [
        "# to prevent too much fit\n",
        "text = \"\"\"\n",
        "This offer is not available to customers\n",
        "living in <b>AK</b> and <B>HI</B>.\n",
        "\"\"\"\n",
        "\n",
        "re_pat = re.compile(r'<[Bb]>.*<\\/[Bb]>')\n",
        "print(re_pat.findall(text))   ## ['<b>AK</b> and <B>'] Greedy search\n",
        "\n",
        "## Need to make lazy quantifier, not greed\n",
        "## * -> *?\n",
        "## + -> +?\n",
        "## {n,} -> {n,}?\n",
        "\n",
        "re_pat_lazy = re.compile(r'<[Bb]>.*?<\\/[Bb]>')\n",
        "print(re_pat_lazy.findall(text))  ## ['<b>AK</b>', '<B>HI</B>'] Lazy search \n",
        "\n"
      ],
      "metadata": {
        "colab": {
          "base_uri": "https://localhost:8080/"
        },
        "id": "SOFtWzYhlvxv",
        "outputId": "cf5e9f21-55b3-4019-d7cf-839cd9bc730c"
      },
      "execution_count": 24,
      "outputs": [
        {
          "output_type": "stream",
          "name": "stdout",
          "text": [
            "['<b>AK</b> and <B>HI</B>']\n",
            "['<b>AK</b>', '<B>HI</B>']\n"
          ]
        }
      ]
    },
    {
      "cell_type": "code",
      "source": [
        "# Chapter 6\n",
        "# Position matching\n",
        "# Designate boundary\n",
        "\n",
        "text = \"The cat scattered his food all over the room.\"\n",
        "re_cat = re.compile(r'cat')\n",
        "print(re_cat.findall(text))\n",
        "\n",
        "# word boundary \\b\n",
        "re_cat_b = re.compile(r'\\bcat\\b')\n",
        "print(re_cat_b.findall(text))\n",
        "\n",
        "# 단어 경계를 일치시키고 싶지 않을 때는 \\B를 사용\n",
        "text = \"\"\"\n",
        "Please enter the nine-digit id as it\n",
        "appears on your color - coded pass-key.\n",
        "\"\"\"\n",
        "\n",
        "re_pat_B = re.compile(r\"(\\B-\\B)\")\n",
        "re_pat_b = re.compile(r\"(\\b-\\b)\")\n",
        "print(re_pat_B.findall(text))\n",
        "print(re_pat_B.search(text))\n",
        "print(re_pat_b.findall(text))\n",
        "print(re_pat_b.search(text))\n",
        "\n",
        "\n"
      ],
      "metadata": {
        "colab": {
          "base_uri": "https://localhost:8080/"
        },
        "id": "dIiJ5WyZtpc0",
        "outputId": "3db8a380-d4eb-42e3-cd34-ecdfaadb067b"
      },
      "execution_count": 31,
      "outputs": [
        {
          "output_type": "stream",
          "name": "stdout",
          "text": [
            "['cat', 'cat']\n",
            "['cat']\n",
            "['-']\n",
            "<re.Match object; span=(60, 61), match='-'>\n",
            "['-', '-']\n",
            "<re.Match object; span=(22, 23), match='-'>\n",
            "-\n"
          ]
        }
      ]
    },
    {
      "cell_type": "code",
      "source": [
        "# Chapter 7\n",
        "# 하위표현식\n",
        "text = \"Regular&nbsp;&nbsp;Expressions, and other subjects.\"\n",
        "re_pat1 = re.compile(r'&nbsp;{2,}')\n",
        "re_pat2 = re.compile(r'(&nbsp;){2,}')\n",
        "\n",
        "print(re_pat1.findall(text)) #[]\n",
        "print(re_pat1.search(text)) # None\n",
        "print(re_pat2.findall(text)) #['&nbsp;']\n",
        "print(re_pat2.search(text).group()) # &nbsp;&nbsp;"
      ],
      "metadata": {
        "colab": {
          "base_uri": "https://localhost:8080/"
        },
        "id": "py-QDVn1w9Q3",
        "outputId": "056a0b0b-e764-413d-d40f-fd6b557a5649"
      },
      "execution_count": 36,
      "outputs": [
        {
          "output_type": "stream",
          "name": "stdout",
          "text": [
            "[]\n",
            "None\n",
            "['&nbsp;']\n",
            "&nbsp;&nbsp;\n"
          ]
        }
      ]
    },
    {
      "cell_type": "code",
      "source": [
        "# Find IP\n",
        "text = \"Pinging hog.forta.com [12.159.46.200]\"\n",
        "re_ip = re.compile(r\"(\\d{1,3}\\.){3}\\d{1,3}\")\n",
        "\n",
        "print(re_ip.search(text).group()) # 12.159.46.200\n",
        "\n"
      ],
      "metadata": {
        "colab": {
          "base_uri": "https://localhost:8080/"
        },
        "id": "IacTV6x2yEgj",
        "outputId": "0b717797-c1e6-46b0-e2ef-8e2388ba5643"
      },
      "execution_count": 37,
      "outputs": [
        {
          "output_type": "stream",
          "name": "stdout",
          "text": [
            "12.159.46.200\n"
          ]
        }
      ]
    },
    {
      "cell_type": "code",
      "source": [
        "# find year\n",
        "import re\n",
        "\n",
        "text = \"DOB: 1967-08-17\"\n",
        "re_year = re.compile(r'19|20\\d{2}')  # which means 19 or 20\\d{2}\n",
        "re_year_paren = re.compile(r'(19|20)\\d{2}') # which means 19 or 20\n",
        "\n",
        "print(re_year.search(text).group())  # 19\n",
        "print(re_year_paren.search(text).group()) # 1967\n",
        "\n"
      ],
      "metadata": {
        "colab": {
          "base_uri": "https://localhost:8080/"
        },
        "id": "kQNDlo_rzPfN",
        "outputId": "21624239-78a5-4e59-d4f5-14cbbf43b653"
      },
      "execution_count": 39,
      "outputs": [
        {
          "output_type": "stream",
          "name": "stdout",
          "text": [
            "19\n",
            "1967\n"
          ]
        }
      ]
    },
    {
      "cell_type": "code",
      "source": [
        "# Nested parenthesis\n",
        "# Find IP\n",
        "# Criteria\n",
        "# 1. every 1-digit or 2-digits number\n",
        "# 2. every 3-digit numbers which start with 1\n",
        "# 3. 3-digit number which start with 2 and the second digit b/w 0 and 4\n",
        "# 4. 25+[0~5]\n",
        "\n",
        "text = \"\"\"\n",
        "Pinging hog.forta.com [12.159.46.200]\n",
        "Pinging hog.forta.com [260.567.190.892]\n",
        "\"\"\"\n",
        "re_ip = re.compile(r\"(\\d{1,3}\\.){3}\\d{1,3}\")\n",
        "\n",
        "print(re_ip.finditer(text)) # <callable_iterator object at 0x7fa0c985bb10>\n",
        "print([x.group() for x in re_ip.finditer(text)]) \n",
        "#['12.159.46.200', '260.567.190.892']\n",
        "# invalid ip is also searched\n",
        "\n",
        "re_ip_nested = re.compile(r\"(((25[0-5])|(2[0-4]\\d)|(1\\d{2})|(\\d{1,2}))\\.){3}((25[0-5])|(2[0-4]\\d)|(1\\d{2})|(\\d{1,2}))\")\n",
        "print([x.group() for x in re_ip_nested.finditer(text)])\n",
        "\n",
        "\n",
        "\n"
      ],
      "metadata": {
        "colab": {
          "base_uri": "https://localhost:8080/"
        },
        "id": "zMPxsO5U0L_J",
        "outputId": "b7d89a02-e73f-4e8e-d224-fcacbca2f5fa"
      },
      "execution_count": 53,
      "outputs": [
        {
          "output_type": "stream",
          "name": "stdout",
          "text": [
            "<callable_iterator object at 0x7fa0c985be90>\n",
            "['12.159.46.200', '260.567.190.892']\n",
            "['12.159.46.200']\n"
          ]
        }
      ]
    },
    {
      "cell_type": "code",
      "source": [
        "# Chapter 8\n",
        "# Back Reference\n",
        "\n",
        "# check repeated word\n",
        "text = \"\"\"\n",
        "this is a block of of text,\n",
        "serveral words here are are\n",
        "repeated, and and they\n",
        "should not be\n",
        "\"\"\"\n",
        "\n",
        "re_pat = re.compile(r\"\\s+(\\w+)\\s+\\1\")\n",
        "print([x.group() for x in re_pat.finditer(text)]) #[' of of', ' are are', ' and and']\n"
      ],
      "metadata": {
        "id": "jAbK3wuLODqQ",
        "outputId": "3586f133-17b9-4e3b-bcc0-862b7d74c12b",
        "colab": {
          "base_uri": "https://localhost:8080/"
        }
      },
      "execution_count": 54,
      "outputs": [
        {
          "output_type": "stream",
          "name": "stdout",
          "text": [
            "[' of of', ' are are', ' and and']\n"
          ]
        }
      ]
    },
    {
      "cell_type": "code",
      "source": [
        "# find header tag\n",
        "# exclude unmatched pair such as <h1> </h2>\n",
        "text = \"\"\"\n",
        "<body>\n",
        "<h1>Welcome to my homepage</h1>\n",
        "blah blah blah <br/>\n",
        "<h2>SQL</h2>\n",
        "blah blah\n",
        "<h2>RegEx</h2>\n",
        "Infromation about Regex\n",
        "<h2> This is not vaild HTML</h3>\n",
        "</body>\n",
        "\"\"\"\n",
        "\n",
        "re_pat = re.compile(r\"<([hH][1-6])>.*?<\\/\\1>\")\n",
        "print([x.group() for x in re_pat.finditer(text)]) \n",
        "# ['<h1>Welcome to my homepage</h1>', '<h2>SQL</h2>', '<h2>RegEx</h2>']\n",
        "# <h2> This is not vaild HTML</h3> is excluded"
      ],
      "metadata": {
        "id": "g35kXB3MVF6a",
        "outputId": "8ca55637-946c-4bb0-d0df-b264f2853c80",
        "colab": {
          "base_uri": "https://localhost:8080/"
        }
      },
      "execution_count": 55,
      "outputs": [
        {
          "output_type": "stream",
          "name": "stdout",
          "text": [
            "['<h1>Welcome to my homepage</h1>', '<h2>SQL</h2>', '<h2>RegEx</h2>']\n"
          ]
        }
      ]
    },
    {
      "cell_type": "code",
      "source": [
        "# substitution using back reference\n",
        "# e-mail -> a href\n",
        "# ex. ben@forta.com -> <a href=\"mailto:ben@forta.com\">ben@forta.com</a>\n",
        "\n",
        "import re\n",
        "text = \"Hello, ben@forta.com is my email address\"\n",
        "\n",
        "re_email = re.compile(r\"(?P<mail>\\w+[\\w\\.]*@[\\w\\.]+\\.\\w+)\")\n",
        "print(re_email.sub(r'<a href=\"mailto:\\1\">\\1</a>',text))\n",
        "# Hello, <a href=\"ben@forta.com\">ben@forta.com</a> is my email address"
      ],
      "metadata": {
        "id": "78q5xZiUWC96",
        "outputId": "41a47441-dbaa-43f0-9b10-704fa022e0b0",
        "colab": {
          "base_uri": "https://localhost:8080/"
        }
      },
      "execution_count": 60,
      "outputs": [
        {
          "output_type": "stream",
          "name": "stdout",
          "text": [
            "Hello, <a href=\"mailto:ben@forta.com\">ben@forta.com</a> is my email address\n"
          ]
        }
      ]
    },
    {
      "cell_type": "code",
      "source": [
        "# substitution using back reference\n",
        "# phone number\n",
        "# 313-555-1234 --> (313) 555-1234\n",
        "import re\n",
        "\n",
        "text = \"\"\"\n",
        "313-555-1234\n",
        "248-846-8753\n",
        "820-784-9687\n",
        "\"\"\"\n",
        "\n",
        "re_phone = re.compile(r\"(?P<n1>\\d{3})-(?P<n2>\\d{3})-(?P<n3>\\d{4})\")\n",
        "print(re_phone.sub(r\"(\\1) \\2-\\3\", text))\n",
        "#(313) 555-1234\n",
        "#(248) 846-8753\n",
        "#(820) 784-9687\n",
        "print(re_phone.sub(r\"(\\g<n1>) \\g<n2>-\\g<n3>\", text))\n",
        "#(313) 555-1234\n",
        "#(248) 846-8753\n",
        "#(820) 784-9687\n"
      ],
      "metadata": {
        "id": "zgqj7OW-Xbz_",
        "outputId": "5a7a7c21-25a2-4b06-b19f-2c379b90ef10",
        "colab": {
          "base_uri": "https://localhost:8080/"
        }
      },
      "execution_count": 63,
      "outputs": [
        {
          "output_type": "stream",
          "name": "stdout",
          "text": [
            "\n",
            "(313) 555-1234\n",
            "(248) 846-8753\n",
            "(820) 784-9687\n",
            "\n",
            "\n",
            "(313) 555-1234\n",
            "(248) 846-8753\n",
            "(820) 784-9687\n",
            "\n"
          ]
        }
      ]
    }
  ]
}